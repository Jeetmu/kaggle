{
 "cells": [
  {
   "cell_type": "code",
   "execution_count": 1,
   "id": "737a9e8d",
   "metadata": {
    "_cell_guid": "b1076dfc-b9ad-4769-8c92-a6c4dae69d19",
    "_uuid": "8f2839f25d086af736a60e9eeb907d3b93b6e0e5",
    "execution": {
     "iopub.execute_input": "2025-03-07T12:15:47.839539Z",
     "iopub.status.busy": "2025-03-07T12:15:47.839133Z",
     "iopub.status.idle": "2025-03-07T12:15:48.819298Z",
     "shell.execute_reply": "2025-03-07T12:15:48.818324Z"
    },
    "papermill": {
     "duration": 0.991429,
     "end_time": "2025-03-07T12:15:48.821140",
     "exception": false,
     "start_time": "2025-03-07T12:15:47.829711",
     "status": "completed"
    },
    "tags": []
   },
   "outputs": [],
   "source": [
    "# This Python 3 environment comes with many helpful analytics libraries installed\n",
    "# It is defined by the kaggle/python Docker image: https://github.com/kaggle/docker-python\n",
    "# For example, here's several helpful packages to load\n",
    "\n",
    "import numpy as np # linear algebra\n",
    "import pandas as pd # data processing, CSV file I/O (e.g. pd.read_csv)\n",
    "\n",
    "# Input data files are available in the read-only \"../input/\" directory\n",
    "# For example, running this (by clicking run or pressing Shift+Enter) will list all files under the input directory\n",
    "\n",
    "import os\n",
    "for dirname, _, filenames in os.walk('/kaggle/input'):\n",
    "    for filename in filenames:\n",
    "        print(os.path.join(dirname, filename))\n",
    "\n",
    "# You can write up to 20GB to the current directory (/kaggle/working/) that gets preserved as output when you create a version using \"Save & Run All\" \n",
    "# You can also write temporary files to /kaggle/temp/, but they won't be saved outside of the current session"
   ]
  },
  {
   "cell_type": "code",
   "execution_count": 2,
   "id": "82cc2c99",
   "metadata": {
    "execution": {
     "iopub.execute_input": "2025-03-07T12:15:48.838004Z",
     "iopub.status.busy": "2025-03-07T12:15:48.837440Z",
     "iopub.status.idle": "2025-03-07T12:15:48.841450Z",
     "shell.execute_reply": "2025-03-07T12:15:48.840513Z"
    },
    "papermill": {
     "duration": 0.01398,
     "end_time": "2025-03-07T12:15:48.843154",
     "exception": false,
     "start_time": "2025-03-07T12:15:48.829174",
     "status": "completed"
    },
    "tags": []
   },
   "outputs": [],
   "source": [
    "# pip install yfinance --upgrade --no-cache-dir"
   ]
  },
  {
   "cell_type": "code",
   "execution_count": 3,
   "id": "28b0a253",
   "metadata": {
    "execution": {
     "iopub.execute_input": "2025-03-07T12:15:48.859650Z",
     "iopub.status.busy": "2025-03-07T12:15:48.859238Z",
     "iopub.status.idle": "2025-03-07T12:15:54.915569Z",
     "shell.execute_reply": "2025-03-07T12:15:54.914189Z"
    },
    "papermill": {
     "duration": 6.066522,
     "end_time": "2025-03-07T12:15:54.917346",
     "exception": false,
     "start_time": "2025-03-07T12:15:48.850824",
     "status": "completed"
    },
    "tags": []
   },
   "outputs": [
    {
     "name": "stdout",
     "output_type": "stream",
     "text": [
      "Requirement already satisfied: yfinance in /usr/local/lib/python3.10/dist-packages (0.2.50)\r\n",
      "Collecting yfinance\r\n",
      "  Downloading yfinance-0.2.54-py2.py3-none-any.whl.metadata (5.8 kB)\r\n",
      "Requirement already satisfied: pandas>=1.3.0 in /usr/local/lib/python3.10/dist-packages (from yfinance) (2.2.3)\r\n",
      "Requirement already satisfied: numpy>=1.16.5 in /usr/local/lib/python3.10/dist-packages (from yfinance) (1.26.4)\r\n",
      "Requirement already satisfied: requests>=2.31 in /usr/local/lib/python3.10/dist-packages (from yfinance) (2.32.3)\r\n",
      "Requirement already satisfied: multitasking>=0.0.7 in /usr/local/lib/python3.10/dist-packages (from yfinance) (0.0.11)\r\n",
      "Requirement already satisfied: platformdirs>=2.0.0 in /usr/local/lib/python3.10/dist-packages (from yfinance) (4.3.6)\r\n",
      "Requirement already satisfied: pytz>=2022.5 in /usr/local/lib/python3.10/dist-packages (from yfinance) (2025.1)\r\n",
      "Requirement already satisfied: frozendict>=2.3.4 in /usr/local/lib/python3.10/dist-packages (from yfinance) (2.4.6)\r\n",
      "Requirement already satisfied: peewee>=3.16.2 in /usr/local/lib/python3.10/dist-packages (from yfinance) (3.17.8)\r\n",
      "Requirement already satisfied: beautifulsoup4>=4.11.1 in /usr/local/lib/python3.10/dist-packages (from yfinance) (4.12.3)\r\n",
      "Requirement already satisfied: soupsieve>1.2 in /usr/local/lib/python3.10/dist-packages (from beautifulsoup4>=4.11.1->yfinance) (2.6)\r\n",
      "Requirement already satisfied: mkl_fft in /usr/local/lib/python3.10/dist-packages (from numpy>=1.16.5->yfinance) (1.3.8)\r\n",
      "Requirement already satisfied: mkl_random in /usr/local/lib/python3.10/dist-packages (from numpy>=1.16.5->yfinance) (1.2.4)\r\n",
      "Requirement already satisfied: mkl_umath in /usr/local/lib/python3.10/dist-packages (from numpy>=1.16.5->yfinance) (0.1.1)\r\n",
      "Requirement already satisfied: mkl in /usr/local/lib/python3.10/dist-packages (from numpy>=1.16.5->yfinance) (2025.0.1)\r\n",
      "Requirement already satisfied: tbb4py in /usr/local/lib/python3.10/dist-packages (from numpy>=1.16.5->yfinance) (2022.0.0)\r\n",
      "Requirement already satisfied: mkl-service in /usr/local/lib/python3.10/dist-packages (from numpy>=1.16.5->yfinance) (2.4.1)\r\n",
      "Requirement already satisfied: python-dateutil>=2.8.2 in /usr/local/lib/python3.10/dist-packages (from pandas>=1.3.0->yfinance) (2.9.0.post0)\r\n",
      "Requirement already satisfied: tzdata>=2022.7 in /usr/local/lib/python3.10/dist-packages (from pandas>=1.3.0->yfinance) (2025.1)\r\n",
      "Requirement already satisfied: charset-normalizer<4,>=2 in /usr/local/lib/python3.10/dist-packages (from requests>=2.31->yfinance) (3.4.1)\r\n",
      "Requirement already satisfied: idna<4,>=2.5 in /usr/local/lib/python3.10/dist-packages (from requests>=2.31->yfinance) (3.10)\r\n",
      "Requirement already satisfied: urllib3<3,>=1.21.1 in /usr/local/lib/python3.10/dist-packages (from requests>=2.31->yfinance) (2.3.0)\r\n",
      "Requirement already satisfied: certifi>=2017.4.17 in /usr/local/lib/python3.10/dist-packages (from requests>=2.31->yfinance) (2025.1.31)\r\n",
      "Requirement already satisfied: six>=1.5 in /usr/local/lib/python3.10/dist-packages (from python-dateutil>=2.8.2->pandas>=1.3.0->yfinance) (1.17.0)\r\n",
      "Requirement already satisfied: intel-openmp>=2024 in /usr/local/lib/python3.10/dist-packages (from mkl->numpy>=1.16.5->yfinance) (2024.2.0)\r\n",
      "Requirement already satisfied: tbb==2022.* in /usr/local/lib/python3.10/dist-packages (from mkl->numpy>=1.16.5->yfinance) (2022.0.0)\r\n",
      "Requirement already satisfied: tcmlib==1.* in /usr/local/lib/python3.10/dist-packages (from tbb==2022.*->mkl->numpy>=1.16.5->yfinance) (1.2.0)\r\n",
      "Requirement already satisfied: intel-cmplr-lib-rt in /usr/local/lib/python3.10/dist-packages (from mkl_umath->numpy>=1.16.5->yfinance) (2024.2.0)\r\n",
      "Requirement already satisfied: intel-cmplr-lib-ur==2024.2.0 in /usr/local/lib/python3.10/dist-packages (from intel-openmp>=2024->mkl->numpy>=1.16.5->yfinance) (2024.2.0)\r\n",
      "Downloading yfinance-0.2.54-py2.py3-none-any.whl (108 kB)\r\n",
      "\u001b[2K   \u001b[90m━━━━━━━━━━━━━━━━━━━━━━━━━━━━━━━━━━━━━━━━\u001b[0m \u001b[32m108.7/108.7 kB\u001b[0m \u001b[31m4.2 MB/s\u001b[0m eta \u001b[36m0:00:00\u001b[0m\r\n",
      "\u001b[?25hInstalling collected packages: yfinance\r\n",
      "  Attempting uninstall: yfinance\r\n",
      "    Found existing installation: yfinance 0.2.50\r\n",
      "    Uninstalling yfinance-0.2.50:\r\n",
      "      Successfully uninstalled yfinance-0.2.50\r\n",
      "Successfully installed yfinance-0.2.54\r\n",
      "Note: you may need to restart the kernel to use updated packages.\n"
     ]
    }
   ],
   "source": [
    "pip install --upgrade yfinance"
   ]
  },
  {
   "cell_type": "code",
   "execution_count": 4,
   "id": "3632a5e3",
   "metadata": {
    "execution": {
     "iopub.execute_input": "2025-03-07T12:15:54.935334Z",
     "iopub.status.busy": "2025-03-07T12:15:54.934929Z",
     "iopub.status.idle": "2025-03-07T12:15:56.205481Z",
     "shell.execute_reply": "2025-03-07T12:15:56.204359Z"
    },
    "papermill": {
     "duration": 1.281645,
     "end_time": "2025-03-07T12:15:56.207444",
     "exception": false,
     "start_time": "2025-03-07T12:15:54.925799",
     "status": "completed"
    },
    "tags": []
   },
   "outputs": [
    {
     "name": "stdout",
     "output_type": "stream",
     "text": [
      "YF.download() has changed argument auto_adjust default to True\n"
     ]
    },
    {
     "name": "stderr",
     "output_type": "stream",
     "text": [
      "[*********************100%***********************]  1 of 1 completed\n"
     ]
    }
   ],
   "source": [
    "import yfinance as yf\n",
    "import matplotlib.pyplot as plt\n",
    "\n",
    "df = yf.download(\"SPY\", start=\"2024-01-01\", end=\"2025-03-03\")"
   ]
  },
  {
   "cell_type": "code",
   "execution_count": 5,
   "id": "444909e2",
   "metadata": {
    "execution": {
     "iopub.execute_input": "2025-03-07T12:15:56.226188Z",
     "iopub.status.busy": "2025-03-07T12:15:56.225669Z",
     "iopub.status.idle": "2025-03-07T12:15:56.572697Z",
     "shell.execute_reply": "2025-03-07T12:15:56.571653Z"
    },
    "papermill": {
     "duration": 0.358581,
     "end_time": "2025-03-07T12:15:56.574650",
     "exception": false,
     "start_time": "2025-03-07T12:15:56.216069",
     "status": "completed"
    },
    "tags": []
   },
   "outputs": [],
   "source": [
    "df['Ret'] = df['Close'].pct_change()\n",
    "df['Ret10_i'] = df['Ret'].rolling(10).apply(lambda x: 100 * ((np.prod(1+x))**(1/10)-1)) \n",
    "df['Ret20_i'] = df['Ret'].rolling(20).apply(lambda x: 100 * ((np.prod(1+x))**(1/20)-1)) \n",
    "df['Ret30_i'] = df['Ret'].rolling(30).apply(lambda x: 100 * ((np.prod(1+x))**(1/30)-1)) \n",
    "df['Ret40_i'] = df['Ret'].rolling(40).apply(lambda x: 100 * ((np.prod(1+x))**(1/40)-1)) \n",
    "df['Ret50_i'] = df['Ret'].rolling(50).apply(lambda x: 100 * ((np.prod(1+x))**(1/50)-1)) "
   ]
  },
  {
   "cell_type": "code",
   "execution_count": 6,
   "id": "52428783",
   "metadata": {
    "execution": {
     "iopub.execute_input": "2025-03-07T12:15:56.593001Z",
     "iopub.status.busy": "2025-03-07T12:15:56.592594Z",
     "iopub.status.idle": "2025-03-07T12:15:56.627188Z",
     "shell.execute_reply": "2025-03-07T12:15:56.626140Z"
    },
    "papermill": {
     "duration": 0.045629,
     "end_time": "2025-03-07T12:15:56.628857",
     "exception": false,
     "start_time": "2025-03-07T12:15:56.583228",
     "status": "completed"
    },
    "tags": []
   },
   "outputs": [
    {
     "data": {
      "text/html": [
       "<div>\n",
       "<style scoped>\n",
       "    .dataframe tbody tr th:only-of-type {\n",
       "        vertical-align: middle;\n",
       "    }\n",
       "\n",
       "    .dataframe tbody tr th {\n",
       "        vertical-align: top;\n",
       "    }\n",
       "\n",
       "    .dataframe thead tr th {\n",
       "        text-align: left;\n",
       "    }\n",
       "\n",
       "    .dataframe thead tr:last-of-type th {\n",
       "        text-align: right;\n",
       "    }\n",
       "</style>\n",
       "<table border=\"1\" class=\"dataframe\">\n",
       "  <thead>\n",
       "    <tr>\n",
       "      <th>Price</th>\n",
       "      <th>Ret</th>\n",
       "      <th>Ret10_i</th>\n",
       "      <th>Ret20_i</th>\n",
       "      <th>Ret30_i</th>\n",
       "      <th>Ret40_i</th>\n",
       "      <th>Ret50_i</th>\n",
       "    </tr>\n",
       "    <tr>\n",
       "      <th>Ticker</th>\n",
       "      <th></th>\n",
       "      <th></th>\n",
       "      <th></th>\n",
       "      <th></th>\n",
       "      <th></th>\n",
       "      <th></th>\n",
       "    </tr>\n",
       "    <tr>\n",
       "      <th>Date</th>\n",
       "      <th></th>\n",
       "      <th></th>\n",
       "      <th></th>\n",
       "      <th></th>\n",
       "      <th></th>\n",
       "      <th></th>\n",
       "    </tr>\n",
       "  </thead>\n",
       "  <tbody>\n",
       "    <tr>\n",
       "      <th>2025-02-14</th>\n",
       "      <td>-0.000049</td>\n",
       "      <td>0.130171</td>\n",
       "      <td>0.150457</td>\n",
       "      <td>0.131789</td>\n",
       "      <td>0.020363</td>\n",
       "      <td>0.026735</td>\n",
       "    </tr>\n",
       "    <tr>\n",
       "      <th>2025-02-18</th>\n",
       "      <td>0.002936</td>\n",
       "      <td>0.227183</td>\n",
       "      <td>0.115118</td>\n",
       "      <td>0.149786</td>\n",
       "      <td>0.038018</td>\n",
       "      <td>0.031672</td>\n",
       "    </tr>\n",
       "    <tr>\n",
       "      <th>2025-02-19</th>\n",
       "      <td>0.002355</td>\n",
       "      <td>0.183756</td>\n",
       "      <td>0.081286</td>\n",
       "      <td>0.116163</td>\n",
       "      <td>0.119605</td>\n",
       "      <td>0.023993</td>\n",
       "    </tr>\n",
       "    <tr>\n",
       "      <th>2025-02-20</th>\n",
       "      <td>-0.004160</td>\n",
       "      <td>0.101485</td>\n",
       "      <td>0.032385</td>\n",
       "      <td>0.083086</td>\n",
       "      <td>0.109939</td>\n",
       "      <td>0.018948</td>\n",
       "    </tr>\n",
       "    <tr>\n",
       "      <th>2025-02-21</th>\n",
       "      <td>-0.017104</td>\n",
       "      <td>-0.105727</td>\n",
       "      <td>-0.081064</td>\n",
       "      <td>0.063460</td>\n",
       "      <td>0.036906</td>\n",
       "      <td>-0.019343</td>\n",
       "    </tr>\n",
       "    <tr>\n",
       "      <th>2025-02-24</th>\n",
       "      <td>-0.004550</td>\n",
       "      <td>-0.059416</td>\n",
       "      <td>-0.089243</td>\n",
       "      <td>0.043380</td>\n",
       "      <td>0.010572</td>\n",
       "      <td>-0.018139</td>\n",
       "    </tr>\n",
       "    <tr>\n",
       "      <th>2025-02-25</th>\n",
       "      <td>-0.004973</td>\n",
       "      <td>-0.176815</td>\n",
       "      <td>-0.042970</td>\n",
       "      <td>0.078066</td>\n",
       "      <td>-0.029522</td>\n",
       "      <td>-0.021882</td>\n",
       "    </tr>\n",
       "    <tr>\n",
       "      <th>2025-02-26</th>\n",
       "      <td>0.000505</td>\n",
       "      <td>-0.179367</td>\n",
       "      <td>-0.083200</td>\n",
       "      <td>0.074582</td>\n",
       "      <td>-0.028427</td>\n",
       "      <td>-0.036270</td>\n",
       "    </tr>\n",
       "    <tr>\n",
       "      <th>2025-02-27</th>\n",
       "      <td>-0.015962</td>\n",
       "      <td>-0.307693</td>\n",
       "      <td>-0.141123</td>\n",
       "      <td>0.016336</td>\n",
       "      <td>-0.042193</td>\n",
       "      <td>-0.058109</td>\n",
       "    </tr>\n",
       "    <tr>\n",
       "      <th>2025-02-28</th>\n",
       "      <td>0.015606</td>\n",
       "      <td>-0.258006</td>\n",
       "      <td>-0.090520</td>\n",
       "      <td>0.007863</td>\n",
       "      <td>0.025206</td>\n",
       "      <td>-0.026756</td>\n",
       "    </tr>\n",
       "  </tbody>\n",
       "</table>\n",
       "</div>"
      ],
      "text/plain": [
       "Price            Ret   Ret10_i   Ret20_i   Ret30_i   Ret40_i   Ret50_i\n",
       "Ticker                                                                \n",
       "Date                                                                  \n",
       "2025-02-14 -0.000049  0.130171  0.150457  0.131789  0.020363  0.026735\n",
       "2025-02-18  0.002936  0.227183  0.115118  0.149786  0.038018  0.031672\n",
       "2025-02-19  0.002355  0.183756  0.081286  0.116163  0.119605  0.023993\n",
       "2025-02-20 -0.004160  0.101485  0.032385  0.083086  0.109939  0.018948\n",
       "2025-02-21 -0.017104 -0.105727 -0.081064  0.063460  0.036906 -0.019343\n",
       "2025-02-24 -0.004550 -0.059416 -0.089243  0.043380  0.010572 -0.018139\n",
       "2025-02-25 -0.004973 -0.176815 -0.042970  0.078066 -0.029522 -0.021882\n",
       "2025-02-26  0.000505 -0.179367 -0.083200  0.074582 -0.028427 -0.036270\n",
       "2025-02-27 -0.015962 -0.307693 -0.141123  0.016336 -0.042193 -0.058109\n",
       "2025-02-28  0.015606 -0.258006 -0.090520  0.007863  0.025206 -0.026756"
      ]
     },
     "execution_count": 6,
     "metadata": {},
     "output_type": "execute_result"
    }
   ],
   "source": [
    "del df[\"Open\"]\n",
    "del df[\"Close\"]\n",
    "del df[\"High\"]\n",
    "del df[\"Low\"]\n",
    "del df[\"Volume\"]\n",
    "\n",
    "df = df.dropna()\n",
    "df.tail(10)"
   ]
  },
  {
   "cell_type": "code",
   "execution_count": 7,
   "id": "4b41042d",
   "metadata": {
    "execution": {
     "iopub.execute_input": "2025-03-07T12:15:56.647698Z",
     "iopub.status.busy": "2025-03-07T12:15:56.647258Z",
     "iopub.status.idle": "2025-03-07T12:15:56.655826Z",
     "shell.execute_reply": "2025-03-07T12:15:56.654774Z"
    },
    "papermill": {
     "duration": 0.019906,
     "end_time": "2025-03-07T12:15:56.657456",
     "exception": false,
     "start_time": "2025-03-07T12:15:56.637550",
     "status": "completed"
    },
    "tags": []
   },
   "outputs": [],
   "source": [
    "df['Ret20'] = df['Ret20_i'].shift(-20)\n",
    "df= df.dropna()"
   ]
  },
  {
   "cell_type": "code",
   "execution_count": 8,
   "id": "736a5ac2",
   "metadata": {
    "execution": {
     "iopub.execute_input": "2025-03-07T12:15:56.676150Z",
     "iopub.status.busy": "2025-03-07T12:15:56.675817Z",
     "iopub.status.idle": "2025-03-07T12:15:56.682755Z",
     "shell.execute_reply": "2025-03-07T12:15:56.681648Z"
    },
    "papermill": {
     "duration": 0.018026,
     "end_time": "2025-03-07T12:15:56.684208",
     "exception": false,
     "start_time": "2025-03-07T12:15:56.666182",
     "status": "completed"
    },
    "tags": []
   },
   "outputs": [
    {
     "name": "stdout",
     "output_type": "stream",
     "text": [
      "(221, 6) (221,)\n"
     ]
    }
   ],
   "source": [
    "X = df.iloc[:,0:-1]\n",
    "y = df.iloc[:,-1]\n",
    "print(X.shape, y.shape)"
   ]
  },
  {
   "cell_type": "code",
   "execution_count": 9,
   "id": "7411c74e",
   "metadata": {
    "execution": {
     "iopub.execute_input": "2025-03-07T12:15:56.702852Z",
     "iopub.status.busy": "2025-03-07T12:15:56.702416Z",
     "iopub.status.idle": "2025-03-07T12:15:58.221465Z",
     "shell.execute_reply": "2025-03-07T12:15:58.220422Z"
    },
    "papermill": {
     "duration": 1.530407,
     "end_time": "2025-03-07T12:15:58.223293",
     "exception": false,
     "start_time": "2025-03-07T12:15:56.692886",
     "status": "completed"
    },
    "tags": []
   },
   "outputs": [
    {
     "name": "stdout",
     "output_type": "stream",
     "text": [
      "(177, 6) (44, 6) (177,) (44,)\n"
     ]
    }
   ],
   "source": [
    "from sklearn.model_selection import train_test_split\n",
    "\n",
    "X_train, X_test, y_train, y_test = train_test_split(X, y, test_size=int(len(y) * 0.2), shuffle=False)\n",
    "print(X_train.shape, X_test.shape, y_train.shape, y_test.shape)"
   ]
  },
  {
   "cell_type": "markdown",
   "id": "307c2ae3",
   "metadata": {
    "papermill": {
     "duration": 0.008395,
     "end_time": "2025-03-07T12:15:58.240667",
     "exception": false,
     "start_time": "2025-03-07T12:15:58.232272",
     "status": "completed"
    },
    "tags": []
   },
   "source": [
    "## Ridge"
   ]
  },
  {
   "cell_type": "code",
   "execution_count": 10,
   "id": "2574ddad",
   "metadata": {
    "execution": {
     "iopub.execute_input": "2025-03-07T12:15:58.259279Z",
     "iopub.status.busy": "2025-03-07T12:15:58.258690Z",
     "iopub.status.idle": "2025-03-07T12:15:58.450076Z",
     "shell.execute_reply": "2025-03-07T12:15:58.449030Z"
    },
    "papermill": {
     "duration": 0.202888,
     "end_time": "2025-03-07T12:15:58.452060",
     "exception": false,
     "start_time": "2025-03-07T12:15:58.249172",
     "status": "completed"
    },
    "tags": []
   },
   "outputs": [],
   "source": [
    "from sklearn.linear_model import Ridge\n",
    "\n",
    "ridgeR = Ridge(alpha=0.7)\n",
    "ridgeR.fit(X_train, y_train)\n",
    "y_pred_ridge = ridgeR.predict(X_train)\n",
    "y_pred_test_ridge = ridgeR.predict(X_test)"
   ]
  },
  {
   "cell_type": "code",
   "execution_count": 11,
   "id": "fceba44d",
   "metadata": {
    "execution": {
     "iopub.execute_input": "2025-03-07T12:15:58.470817Z",
     "iopub.status.busy": "2025-03-07T12:15:58.470417Z",
     "iopub.status.idle": "2025-03-07T12:15:58.476282Z",
     "shell.execute_reply": "2025-03-07T12:15:58.475035Z"
    },
    "papermill": {
     "duration": 0.01716,
     "end_time": "2025-03-07T12:15:58.478014",
     "exception": false,
     "start_time": "2025-03-07T12:15:58.460854",
     "status": "completed"
    },
    "tags": []
   },
   "outputs": [
    {
     "name": "stdout",
     "output_type": "stream",
     "text": [
      "Mean Squared Error on the test set 0.019011604980492987\n"
     ]
    }
   ],
   "source": [
    "mean_squared_error = np.mean((y_pred_test_ridge - y_test)**2)\n",
    "print('Mean Squared Error on the test set', mean_squared_error)"
   ]
  },
  {
   "cell_type": "code",
   "execution_count": 12,
   "id": "e82ffaeb",
   "metadata": {
    "execution": {
     "iopub.execute_input": "2025-03-07T12:15:58.496668Z",
     "iopub.status.busy": "2025-03-07T12:15:58.496300Z",
     "iopub.status.idle": "2025-03-07T12:15:58.508678Z",
     "shell.execute_reply": "2025-03-07T12:15:58.507497Z"
    },
    "papermill": {
     "duration": 0.023683,
     "end_time": "2025-03-07T12:15:58.510432",
     "exception": false,
     "start_time": "2025-03-07T12:15:58.486749",
     "status": "completed"
    },
    "tags": []
   },
   "outputs": [
    {
     "data": {
      "text/html": [
       "<div>\n",
       "<style scoped>\n",
       "    .dataframe tbody tr th:only-of-type {\n",
       "        vertical-align: middle;\n",
       "    }\n",
       "\n",
       "    .dataframe tbody tr th {\n",
       "        vertical-align: top;\n",
       "    }\n",
       "\n",
       "    .dataframe thead th {\n",
       "        text-align: right;\n",
       "    }\n",
       "</style>\n",
       "<table border=\"1\" class=\"dataframe\">\n",
       "  <thead>\n",
       "    <tr style=\"text-align: right;\">\n",
       "      <th></th>\n",
       "      <th>Columns</th>\n",
       "      <th>Coef Extimate</th>\n",
       "    </tr>\n",
       "  </thead>\n",
       "  <tbody>\n",
       "    <tr>\n",
       "      <th>0</th>\n",
       "      <td>(Ret, )</td>\n",
       "      <td>-0.010517</td>\n",
       "    </tr>\n",
       "    <tr>\n",
       "      <th>1</th>\n",
       "      <td>(Ret10_i, )</td>\n",
       "      <td>-0.057506</td>\n",
       "    </tr>\n",
       "    <tr>\n",
       "      <th>2</th>\n",
       "      <td>(Ret20_i, )</td>\n",
       "      <td>-0.085374</td>\n",
       "    </tr>\n",
       "    <tr>\n",
       "      <th>3</th>\n",
       "      <td>(Ret30_i, )</td>\n",
       "      <td>-0.082562</td>\n",
       "    </tr>\n",
       "    <tr>\n",
       "      <th>4</th>\n",
       "      <td>(Ret40_i, )</td>\n",
       "      <td>-0.309163</td>\n",
       "    </tr>\n",
       "    <tr>\n",
       "      <th>5</th>\n",
       "      <td>(Ret50_i, )</td>\n",
       "      <td>-0.625971</td>\n",
       "    </tr>\n",
       "  </tbody>\n",
       "</table>\n",
       "</div>"
      ],
      "text/plain": [
       "       Columns  Coef Extimate\n",
       "0      (Ret, )      -0.010517\n",
       "1  (Ret10_i, )      -0.057506\n",
       "2  (Ret20_i, )      -0.085374\n",
       "3  (Ret30_i, )      -0.082562\n",
       "4  (Ret40_i, )      -0.309163\n",
       "5  (Ret50_i, )      -0.625971"
      ]
     },
     "execution_count": 12,
     "metadata": {},
     "output_type": "execute_result"
    }
   ],
   "source": [
    "ridge_coef = pd.DataFrame({\"Columns\": list(X_train.columns)})\n",
    "ridge_coef['Coef Extimate'] =  pd.Series(ridgeR.coef_)\n",
    "ridge_coef"
   ]
  },
  {
   "cell_type": "markdown",
   "id": "dc7d3509",
   "metadata": {
    "papermill": {
     "duration": 0.008724,
     "end_time": "2025-03-07T12:15:58.528404",
     "exception": false,
     "start_time": "2025-03-07T12:15:58.519680",
     "status": "completed"
    },
    "tags": []
   },
   "source": [
    "## Lasso"
   ]
  },
  {
   "cell_type": "code",
   "execution_count": 13,
   "id": "32be0f94",
   "metadata": {
    "execution": {
     "iopub.execute_input": "2025-03-07T12:15:58.547497Z",
     "iopub.status.busy": "2025-03-07T12:15:58.547167Z",
     "iopub.status.idle": "2025-03-07T12:15:58.568998Z",
     "shell.execute_reply": "2025-03-07T12:15:58.567712Z"
    },
    "papermill": {
     "duration": 0.033676,
     "end_time": "2025-03-07T12:15:58.570907",
     "exception": false,
     "start_time": "2025-03-07T12:15:58.537231",
     "status": "completed"
    },
    "tags": []
   },
   "outputs": [
    {
     "name": "stdout",
     "output_type": "stream",
     "text": [
      "Mean squared error on test set 0.022356451696282656\n"
     ]
    }
   ],
   "source": [
    "from sklearn.linear_model import Lasso\n",
    "\n",
    "lasso = Lasso(alpha=0.0001)\n",
    "lasso.fit(X_train, y_train)\n",
    "y_pred_Lasso = lasso.predict(X_train)\n",
    "y_pred_test_lasso = lasso.predict(X_test)\n",
    "\n",
    "mean_squared_error = np.mean((y_pred_test_lasso - y_test) ** 2)\n",
    "print(\"Mean squared error on test set\", mean_squared_error)"
   ]
  },
  {
   "cell_type": "code",
   "execution_count": 14,
   "id": "1b725f98",
   "metadata": {
    "execution": {
     "iopub.execute_input": "2025-03-07T12:15:58.590112Z",
     "iopub.status.busy": "2025-03-07T12:15:58.589769Z",
     "iopub.status.idle": "2025-03-07T12:15:58.601982Z",
     "shell.execute_reply": "2025-03-07T12:15:58.600762Z"
    },
    "papermill": {
     "duration": 0.023813,
     "end_time": "2025-03-07T12:15:58.603772",
     "exception": false,
     "start_time": "2025-03-07T12:15:58.579959",
     "status": "completed"
    },
    "tags": []
   },
   "outputs": [
    {
     "data": {
      "text/html": [
       "<div>\n",
       "<style scoped>\n",
       "    .dataframe tbody tr th:only-of-type {\n",
       "        vertical-align: middle;\n",
       "    }\n",
       "\n",
       "    .dataframe tbody tr th {\n",
       "        vertical-align: top;\n",
       "    }\n",
       "\n",
       "    .dataframe thead th {\n",
       "        text-align: right;\n",
       "    }\n",
       "</style>\n",
       "<table border=\"1\" class=\"dataframe\">\n",
       "  <thead>\n",
       "    <tr style=\"text-align: right;\">\n",
       "      <th></th>\n",
       "      <th>Columns</th>\n",
       "      <th>Coef Estimate</th>\n",
       "    </tr>\n",
       "  </thead>\n",
       "  <tbody>\n",
       "    <tr>\n",
       "      <th>0</th>\n",
       "      <td>(Ret, )</td>\n",
       "      <td>-0.000000</td>\n",
       "    </tr>\n",
       "    <tr>\n",
       "      <th>1</th>\n",
       "      <td>(Ret10_i, )</td>\n",
       "      <td>-0.031821</td>\n",
       "    </tr>\n",
       "    <tr>\n",
       "      <th>2</th>\n",
       "      <td>(Ret20_i, )</td>\n",
       "      <td>-0.036041</td>\n",
       "    </tr>\n",
       "    <tr>\n",
       "      <th>3</th>\n",
       "      <td>(Ret30_i, )</td>\n",
       "      <td>0.067504</td>\n",
       "    </tr>\n",
       "    <tr>\n",
       "      <th>4</th>\n",
       "      <td>(Ret40_i, )</td>\n",
       "      <td>-0.185908</td>\n",
       "    </tr>\n",
       "    <tr>\n",
       "      <th>5</th>\n",
       "      <td>(Ret50_i, )</td>\n",
       "      <td>-1.525048</td>\n",
       "    </tr>\n",
       "  </tbody>\n",
       "</table>\n",
       "</div>"
      ],
      "text/plain": [
       "       Columns  Coef Estimate\n",
       "0      (Ret, )      -0.000000\n",
       "1  (Ret10_i, )      -0.031821\n",
       "2  (Ret20_i, )      -0.036041\n",
       "3  (Ret30_i, )       0.067504\n",
       "4  (Ret40_i, )      -0.185908\n",
       "5  (Ret50_i, )      -1.525048"
      ]
     },
     "execution_count": 14,
     "metadata": {},
     "output_type": "execute_result"
    }
   ],
   "source": [
    "lasso_coef = pd.DataFrame({'Columns':X_train.columns})\n",
    "lasso_coef['Coef Estimate'] = pd.Series(lasso.coef_)\n",
    "\n",
    "lasso_coef"
   ]
  },
  {
   "cell_type": "markdown",
   "id": "ecc09627",
   "metadata": {
    "papermill": {
     "duration": 0.008748,
     "end_time": "2025-03-07T12:15:58.621933",
     "exception": false,
     "start_time": "2025-03-07T12:15:58.613185",
     "status": "completed"
    },
    "tags": []
   },
   "source": [
    "## Elastic Net"
   ]
  },
  {
   "cell_type": "code",
   "execution_count": 15,
   "id": "3de9b8eb",
   "metadata": {
    "execution": {
     "iopub.execute_input": "2025-03-07T12:15:58.641216Z",
     "iopub.status.busy": "2025-03-07T12:15:58.640839Z",
     "iopub.status.idle": "2025-03-07T12:15:58.652535Z",
     "shell.execute_reply": "2025-03-07T12:15:58.651404Z"
    },
    "papermill": {
     "duration": 0.02342,
     "end_time": "2025-03-07T12:15:58.654343",
     "exception": false,
     "start_time": "2025-03-07T12:15:58.630923",
     "status": "completed"
    },
    "tags": []
   },
   "outputs": [
    {
     "name": "stdout",
     "output_type": "stream",
     "text": [
      "Mean Squared Error on test set 0.022312883988062006\n"
     ]
    }
   ],
   "source": [
    "from sklearn.linear_model import ElasticNet\n",
    "\n",
    "e_net = ElasticNet(alpha=0.0001, l1_ratio=0.2)\n",
    "e_net.fit(X_train, y_train)\n",
    "y_pred_elastic = e_net.predict(X_test)\n",
    "mean_squared_error = np.mean((y_pred_elastic - y_test) ** 2)\n",
    "print(\"Mean Squared Error on test set\", mean_squared_error)"
   ]
  },
  {
   "cell_type": "code",
   "execution_count": 16,
   "id": "252c9109",
   "metadata": {
    "execution": {
     "iopub.execute_input": "2025-03-07T12:15:58.674166Z",
     "iopub.status.busy": "2025-03-07T12:15:58.673800Z",
     "iopub.status.idle": "2025-03-07T12:15:58.685500Z",
     "shell.execute_reply": "2025-03-07T12:15:58.684456Z"
    },
    "papermill": {
     "duration": 0.023539,
     "end_time": "2025-03-07T12:15:58.687289",
     "exception": false,
     "start_time": "2025-03-07T12:15:58.663750",
     "status": "completed"
    },
    "tags": []
   },
   "outputs": [
    {
     "data": {
      "text/html": [
       "<div>\n",
       "<style scoped>\n",
       "    .dataframe tbody tr th:only-of-type {\n",
       "        vertical-align: middle;\n",
       "    }\n",
       "\n",
       "    .dataframe tbody tr th {\n",
       "        vertical-align: top;\n",
       "    }\n",
       "\n",
       "    .dataframe thead th {\n",
       "        text-align: right;\n",
       "    }\n",
       "</style>\n",
       "<table border=\"1\" class=\"dataframe\">\n",
       "  <thead>\n",
       "    <tr style=\"text-align: right;\">\n",
       "      <th></th>\n",
       "      <th>Columns</th>\n",
       "      <th>Coefficient Estimate</th>\n",
       "    </tr>\n",
       "  </thead>\n",
       "  <tbody>\n",
       "    <tr>\n",
       "      <th>0</th>\n",
       "      <td>(Ret, )</td>\n",
       "      <td>-0.192553</td>\n",
       "    </tr>\n",
       "    <tr>\n",
       "      <th>1</th>\n",
       "      <td>(Ret10_i, )</td>\n",
       "      <td>-0.031341</td>\n",
       "    </tr>\n",
       "    <tr>\n",
       "      <th>2</th>\n",
       "      <td>(Ret20_i, )</td>\n",
       "      <td>-0.046892</td>\n",
       "    </tr>\n",
       "    <tr>\n",
       "      <th>3</th>\n",
       "      <td>(Ret30_i, )</td>\n",
       "      <td>0.097277</td>\n",
       "    </tr>\n",
       "    <tr>\n",
       "      <th>4</th>\n",
       "      <td>(Ret40_i, )</td>\n",
       "      <td>-0.228517</td>\n",
       "    </tr>\n",
       "    <tr>\n",
       "      <th>5</th>\n",
       "      <td>(Ret50_i, )</td>\n",
       "      <td>-1.493611</td>\n",
       "    </tr>\n",
       "  </tbody>\n",
       "</table>\n",
       "</div>"
      ],
      "text/plain": [
       "       Columns  Coefficient Estimate\n",
       "0      (Ret, )             -0.192553\n",
       "1  (Ret10_i, )             -0.031341\n",
       "2  (Ret20_i, )             -0.046892\n",
       "3  (Ret30_i, )              0.097277\n",
       "4  (Ret40_i, )             -0.228517\n",
       "5  (Ret50_i, )             -1.493611"
      ]
     },
     "execution_count": 16,
     "metadata": {},
     "output_type": "execute_result"
    }
   ],
   "source": [
    "e_net_coeff = pd.DataFrame({\"Columns\": list(X_train.columns)})\n",
    "e_net_coeff[\"Coefficient Estimate\"] = pd.Series(e_net.coef_)\n",
    "e_net_coeff"
   ]
  },
  {
   "cell_type": "markdown",
   "id": "02f832ca",
   "metadata": {
    "papermill": {
     "duration": 0.008871,
     "end_time": "2025-03-07T12:15:58.705715",
     "exception": false,
     "start_time": "2025-03-07T12:15:58.696844",
     "status": "completed"
    },
    "tags": []
   },
   "source": [
    "## Hyperparameter Tuning"
   ]
  },
  {
   "cell_type": "code",
   "execution_count": 17,
   "id": "0e434582",
   "metadata": {
    "execution": {
     "iopub.execute_input": "2025-03-07T12:15:58.725697Z",
     "iopub.status.busy": "2025-03-07T12:15:58.725242Z",
     "iopub.status.idle": "2025-03-07T12:15:58.731205Z",
     "shell.execute_reply": "2025-03-07T12:15:58.730038Z"
    },
    "papermill": {
     "duration": 0.017727,
     "end_time": "2025-03-07T12:15:58.732911",
     "exception": false,
     "start_time": "2025-03-07T12:15:58.715184",
     "status": "completed"
    },
    "tags": []
   },
   "outputs": [],
   "source": [
    "from sklearn.model_selection import GridSearchCV, RepeatedKFold\n",
    "\n",
    "model = ElasticNet()\n",
    "cv = RepeatedKFold(n_splits=10, n_repeats=3, random_state=1)\n",
    "grid = dict()\n",
    "grid['alpha'] = [1e-5, 1e-4, 1e-3, 1e-2, 1e-1, 0.0, 1.0, 10.0, 100.0]\n",
    "grid['l1_ratio'] = [0, 0.01, 0.1, 0.2, 0.5, 0.7, 1]\n",
    "search = GridSearchCV(model, grid, scoring=\"neg_mean_squared_error\", cv=cv, n_jobs=-1)"
   ]
  },
  {
   "cell_type": "code",
   "execution_count": 18,
   "id": "f6f9881c",
   "metadata": {
    "execution": {
     "iopub.execute_input": "2025-03-07T12:15:58.752714Z",
     "iopub.status.busy": "2025-03-07T12:15:58.752297Z",
     "iopub.status.idle": "2025-03-07T12:16:05.453955Z",
     "shell.execute_reply": "2025-03-07T12:16:05.452622Z"
    },
    "papermill": {
     "duration": 6.713317,
     "end_time": "2025-03-07T12:16:05.455657",
     "exception": false,
     "start_time": "2025-03-07T12:15:58.742340",
     "status": "completed"
    },
    "tags": []
   },
   "outputs": [
    {
     "name": "stdout",
     "output_type": "stream",
     "text": [
      "MSE: -0.007\n",
      "Config: {'alpha': 0.0001, 'l1_ratio': 0}\n"
     ]
    },
    {
     "name": "stderr",
     "output_type": "stream",
     "text": [
      "/usr/local/lib/python3.10/dist-packages/sklearn/linear_model/_coordinate_descent.py:631: ConvergenceWarning: Objective did not converge. You might want to increase the number of iterations, check the scale of the features or consider increasing regularisation. Duality gap: 6.369e-01, tolerance: 3.458e-04 Linear regression models with null weight for the l1 regularization term are more efficiently fitted using one of the solvers implemented in sklearn.linear_model.Ridge/RidgeCV instead.\n",
      "  model = cd_fast.enet_coordinate_descent(\n"
     ]
    }
   ],
   "source": [
    "results = search.fit(X_train, y_train)\n",
    "print(\"MSE: %.3f\" % results.best_score_)\n",
    "print(\"Config: %s\" % results.best_params_)"
   ]
  },
  {
   "cell_type": "code",
   "execution_count": 19,
   "id": "b90ad977",
   "metadata": {
    "execution": {
     "iopub.execute_input": "2025-03-07T12:16:05.476162Z",
     "iopub.status.busy": "2025-03-07T12:16:05.475697Z",
     "iopub.status.idle": "2025-03-07T12:16:05.489834Z",
     "shell.execute_reply": "2025-03-07T12:16:05.488603Z"
    },
    "papermill": {
     "duration": 0.026435,
     "end_time": "2025-03-07T12:16:05.491674",
     "exception": false,
     "start_time": "2025-03-07T12:16:05.465239",
     "status": "completed"
    },
    "tags": []
   },
   "outputs": [
    {
     "name": "stdout",
     "output_type": "stream",
     "text": [
      "Mean Squared Error on test set 0.02232802382595446\n"
     ]
    },
    {
     "name": "stderr",
     "output_type": "stream",
     "text": [
      "/usr/local/lib/python3.10/dist-packages/sklearn/linear_model/_coordinate_descent.py:631: ConvergenceWarning: Objective did not converge. You might want to increase the number of iterations, check the scale of the features or consider increasing regularisation. Duality gap: 6.369e-01, tolerance: 3.458e-04 Linear regression models with null weight for the l1 regularization term are more efficiently fitted using one of the solvers implemented in sklearn.linear_model.Ridge/RidgeCV instead.\n",
      "  model = cd_fast.enet_coordinate_descent(\n"
     ]
    }
   ],
   "source": [
    "e_net = ElasticNet(alpha=0.0001, l1_ratio=0)\n",
    "e_net.fit(X_train, y_train)\n",
    "y_pred_elastic = e_net.predict(X_test)\n",
    "mean_squared_error = np.mean((y_pred_elastic - y_test) ** 2)\n",
    "print(\"Mean Squared Error on test set\", mean_squared_error)"
   ]
  },
  {
   "cell_type": "markdown",
   "id": "41545e24",
   "metadata": {
    "papermill": {
     "duration": 0.009346,
     "end_time": "2025-03-07T12:16:05.510780",
     "exception": false,
     "start_time": "2025-03-07T12:16:05.501434",
     "status": "completed"
    },
    "tags": []
   },
   "source": [
    "## Classification"
   ]
  },
  {
   "cell_type": "code",
   "execution_count": 20,
   "id": "11e56fd4",
   "metadata": {
    "execution": {
     "iopub.execute_input": "2025-03-07T12:16:05.531276Z",
     "iopub.status.busy": "2025-03-07T12:16:05.530926Z",
     "iopub.status.idle": "2025-03-07T12:16:05.551121Z",
     "shell.execute_reply": "2025-03-07T12:16:05.550182Z"
    },
    "papermill": {
     "duration": 0.032284,
     "end_time": "2025-03-07T12:16:05.552654",
     "exception": false,
     "start_time": "2025-03-07T12:16:05.520370",
     "status": "completed"
    },
    "tags": []
   },
   "outputs": [
    {
     "data": {
      "text/html": [
       "<div>\n",
       "<style scoped>\n",
       "    .dataframe tbody tr th:only-of-type {\n",
       "        vertical-align: middle;\n",
       "    }\n",
       "\n",
       "    .dataframe tbody tr th {\n",
       "        vertical-align: top;\n",
       "    }\n",
       "\n",
       "    .dataframe thead tr th {\n",
       "        text-align: left;\n",
       "    }\n",
       "\n",
       "    .dataframe thead tr:last-of-type th {\n",
       "        text-align: right;\n",
       "    }\n",
       "</style>\n",
       "<table border=\"1\" class=\"dataframe\">\n",
       "  <thead>\n",
       "    <tr>\n",
       "      <th>Price</th>\n",
       "      <th>Ret</th>\n",
       "      <th>Ret10_i</th>\n",
       "      <th>Ret20_i</th>\n",
       "      <th>Ret30_i</th>\n",
       "      <th>Ret40_i</th>\n",
       "      <th>Ret50_i</th>\n",
       "      <th>Output</th>\n",
       "    </tr>\n",
       "    <tr>\n",
       "      <th>Ticker</th>\n",
       "      <th></th>\n",
       "      <th></th>\n",
       "      <th></th>\n",
       "      <th></th>\n",
       "      <th></th>\n",
       "      <th></th>\n",
       "      <th></th>\n",
       "    </tr>\n",
       "    <tr>\n",
       "      <th>Date</th>\n",
       "      <th></th>\n",
       "      <th></th>\n",
       "      <th></th>\n",
       "      <th></th>\n",
       "      <th></th>\n",
       "      <th></th>\n",
       "      <th></th>\n",
       "    </tr>\n",
       "  </thead>\n",
       "  <tbody>\n",
       "    <tr>\n",
       "      <th>2025-01-16</th>\n",
       "      <td>-0.001923</td>\n",
       "      <td>0.094465</td>\n",
       "      <td>-0.109562</td>\n",
       "      <td>-0.055661</td>\n",
       "      <td>0.033419</td>\n",
       "      <td>0.077628</td>\n",
       "      <td>1.0</td>\n",
       "    </tr>\n",
       "    <tr>\n",
       "      <th>2025-01-17</th>\n",
       "      <td>0.010040</td>\n",
       "      <td>0.219159</td>\n",
       "      <td>-0.039022</td>\n",
       "      <td>-0.023920</td>\n",
       "      <td>0.048177</td>\n",
       "      <td>0.101942</td>\n",
       "      <td>1.0</td>\n",
       "    </tr>\n",
       "    <tr>\n",
       "      <th>2025-01-21</th>\n",
       "      <td>0.009154</td>\n",
       "      <td>0.185952</td>\n",
       "      <td>0.157938</td>\n",
       "      <td>-0.014183</td>\n",
       "      <td>0.061842</td>\n",
       "      <td>0.096122</td>\n",
       "      <td>1.0</td>\n",
       "    </tr>\n",
       "    <tr>\n",
       "      <th>2025-01-22</th>\n",
       "      <td>0.005621</td>\n",
       "      <td>0.184566</td>\n",
       "      <td>0.187553</td>\n",
       "      <td>0.009992</td>\n",
       "      <td>0.075019</td>\n",
       "      <td>0.058181</td>\n",
       "      <td>1.0</td>\n",
       "    </tr>\n",
       "    <tr>\n",
       "      <th>2025-01-23</th>\n",
       "      <td>0.005458</td>\n",
       "      <td>0.353134</td>\n",
       "      <td>0.155016</td>\n",
       "      <td>0.021825</td>\n",
       "      <td>0.075242</td>\n",
       "      <td>0.053660</td>\n",
       "      <td>-1.0</td>\n",
       "    </tr>\n",
       "    <tr>\n",
       "      <th>2025-01-24</th>\n",
       "      <td>-0.002919</td>\n",
       "      <td>0.309154</td>\n",
       "      <td>0.110487</td>\n",
       "      <td>0.029291</td>\n",
       "      <td>0.060186</td>\n",
       "      <td>0.039162</td>\n",
       "      <td>-1.0</td>\n",
       "    </tr>\n",
       "    <tr>\n",
       "      <th>2025-01-27</th>\n",
       "      <td>-0.014145</td>\n",
       "      <td>0.320578</td>\n",
       "      <td>-0.016073</td>\n",
       "      <td>-0.007821</td>\n",
       "      <td>0.016088</td>\n",
       "      <td>0.008757</td>\n",
       "      <td>-1.0</td>\n",
       "    </tr>\n",
       "    <tr>\n",
       "      <th>2025-01-28</th>\n",
       "      <td>0.008592</td>\n",
       "      <td>0.390892</td>\n",
       "      <td>0.026375</td>\n",
       "      <td>-0.004972</td>\n",
       "      <td>0.024459</td>\n",
       "      <td>0.032095</td>\n",
       "      <td>-1.0</td>\n",
       "    </tr>\n",
       "    <tr>\n",
       "      <th>2025-01-29</th>\n",
       "      <td>-0.004483</td>\n",
       "      <td>0.331999</td>\n",
       "      <td>0.056834</td>\n",
       "      <td>-0.002729</td>\n",
       "      <td>0.020812</td>\n",
       "      <td>0.022135</td>\n",
       "      <td>-1.0</td>\n",
       "    </tr>\n",
       "    <tr>\n",
       "      <th>2025-01-30</th>\n",
       "      <td>0.005367</td>\n",
       "      <td>0.204921</td>\n",
       "      <td>0.141067</td>\n",
       "      <td>0.015777</td>\n",
       "      <td>0.018712</td>\n",
       "      <td>0.045751</td>\n",
       "      <td>-1.0</td>\n",
       "    </tr>\n",
       "  </tbody>\n",
       "</table>\n",
       "</div>"
      ],
      "text/plain": [
       "Price            Ret   Ret10_i   Ret20_i   Ret30_i   Ret40_i   Ret50_i Output\n",
       "Ticker                                                                       \n",
       "Date                                                                         \n",
       "2025-01-16 -0.001923  0.094465 -0.109562 -0.055661  0.033419  0.077628    1.0\n",
       "2025-01-17  0.010040  0.219159 -0.039022 -0.023920  0.048177  0.101942    1.0\n",
       "2025-01-21  0.009154  0.185952  0.157938 -0.014183  0.061842  0.096122    1.0\n",
       "2025-01-22  0.005621  0.184566  0.187553  0.009992  0.075019  0.058181    1.0\n",
       "2025-01-23  0.005458  0.353134  0.155016  0.021825  0.075242  0.053660   -1.0\n",
       "2025-01-24 -0.002919  0.309154  0.110487  0.029291  0.060186  0.039162   -1.0\n",
       "2025-01-27 -0.014145  0.320578 -0.016073 -0.007821  0.016088  0.008757   -1.0\n",
       "2025-01-28  0.008592  0.390892  0.026375 -0.004972  0.024459  0.032095   -1.0\n",
       "2025-01-29 -0.004483  0.331999  0.056834 -0.002729  0.020812  0.022135   -1.0\n",
       "2025-01-30  0.005367  0.204921  0.141067  0.015777  0.018712  0.045751   -1.0"
      ]
     },
     "execution_count": 20,
     "metadata": {},
     "output_type": "execute_result"
    }
   ],
   "source": [
    "df['Output'] = df['Ret20'].apply(np.sign)\n",
    "del df['Ret20']\n",
    "df.tail(10)"
   ]
  },
  {
   "cell_type": "code",
   "execution_count": 21,
   "id": "9e18e0b8",
   "metadata": {
    "execution": {
     "iopub.execute_input": "2025-03-07T12:16:05.574138Z",
     "iopub.status.busy": "2025-03-07T12:16:05.573743Z",
     "iopub.status.idle": "2025-03-07T12:16:05.607332Z",
     "shell.execute_reply": "2025-03-07T12:16:05.606094Z"
    },
    "papermill": {
     "duration": 0.046612,
     "end_time": "2025-03-07T12:16:05.609337",
     "exception": false,
     "start_time": "2025-03-07T12:16:05.562725",
     "status": "completed"
    },
    "tags": []
   },
   "outputs": [
    {
     "data": {
      "text/html": [
       "<div>\n",
       "<style scoped>\n",
       "    .dataframe tbody tr th:only-of-type {\n",
       "        vertical-align: middle;\n",
       "    }\n",
       "\n",
       "    .dataframe tbody tr th {\n",
       "        vertical-align: top;\n",
       "    }\n",
       "\n",
       "    .dataframe thead tr th {\n",
       "        text-align: left;\n",
       "    }\n",
       "</style>\n",
       "<table border=\"1\" class=\"dataframe\">\n",
       "  <thead>\n",
       "    <tr>\n",
       "      <th>Price</th>\n",
       "      <th>Ret</th>\n",
       "      <th>Ret10_i</th>\n",
       "      <th>Ret20_i</th>\n",
       "      <th>Ret30_i</th>\n",
       "      <th>Ret40_i</th>\n",
       "      <th>Ret50_i</th>\n",
       "      <th>Output</th>\n",
       "    </tr>\n",
       "    <tr>\n",
       "      <th>Ticker</th>\n",
       "      <th></th>\n",
       "      <th></th>\n",
       "      <th></th>\n",
       "      <th></th>\n",
       "      <th></th>\n",
       "      <th></th>\n",
       "      <th></th>\n",
       "    </tr>\n",
       "  </thead>\n",
       "  <tbody>\n",
       "    <tr>\n",
       "      <th>count</th>\n",
       "      <td>221.000000</td>\n",
       "      <td>221.000000</td>\n",
       "      <td>221.000000</td>\n",
       "      <td>221.000000</td>\n",
       "      <td>221.000000</td>\n",
       "      <td>221.000000</td>\n",
       "      <td>221.000000</td>\n",
       "    </tr>\n",
       "    <tr>\n",
       "      <th>mean</th>\n",
       "      <td>0.000812</td>\n",
       "      <td>0.079832</td>\n",
       "      <td>0.077881</td>\n",
       "      <td>0.081653</td>\n",
       "      <td>0.087557</td>\n",
       "      <td>0.091575</td>\n",
       "      <td>0.484163</td>\n",
       "    </tr>\n",
       "    <tr>\n",
       "      <th>std</th>\n",
       "      <td>0.008135</td>\n",
       "      <td>0.243010</td>\n",
       "      <td>0.137907</td>\n",
       "      <td>0.097563</td>\n",
       "      <td>0.074353</td>\n",
       "      <td>0.061443</td>\n",
       "      <td>0.876964</td>\n",
       "    </tr>\n",
       "    <tr>\n",
       "      <th>min</th>\n",
       "      <td>-0.029803</td>\n",
       "      <td>-0.693184</td>\n",
       "      <td>-0.394433</td>\n",
       "      <td>-0.170217</td>\n",
       "      <td>-0.074054</td>\n",
       "      <td>-0.041107</td>\n",
       "      <td>-1.000000</td>\n",
       "    </tr>\n",
       "    <tr>\n",
       "      <th>25%</th>\n",
       "      <td>-0.002879</td>\n",
       "      <td>-0.059888</td>\n",
       "      <td>0.009911</td>\n",
       "      <td>-0.000990</td>\n",
       "      <td>0.034746</td>\n",
       "      <td>0.042084</td>\n",
       "      <td>-1.000000</td>\n",
       "    </tr>\n",
       "    <tr>\n",
       "      <th>50%</th>\n",
       "      <td>0.001152</td>\n",
       "      <td>0.110756</td>\n",
       "      <td>0.110487</td>\n",
       "      <td>0.097066</td>\n",
       "      <td>0.089694</td>\n",
       "      <td>0.081773</td>\n",
       "      <td>1.000000</td>\n",
       "    </tr>\n",
       "    <tr>\n",
       "      <th>75%</th>\n",
       "      <td>0.005762</td>\n",
       "      <td>0.239252</td>\n",
       "      <td>0.166241</td>\n",
       "      <td>0.160171</td>\n",
       "      <td>0.142611</td>\n",
       "      <td>0.132235</td>\n",
       "      <td>1.000000</td>\n",
       "    </tr>\n",
       "    <tr>\n",
       "      <th>max</th>\n",
       "      <td>0.024866</td>\n",
       "      <td>0.787710</td>\n",
       "      <td>0.335351</td>\n",
       "      <td>0.320866</td>\n",
       "      <td>0.249688</td>\n",
       "      <td>0.238054</td>\n",
       "      <td>1.000000</td>\n",
       "    </tr>\n",
       "  </tbody>\n",
       "</table>\n",
       "</div>"
      ],
      "text/plain": [
       "Price          Ret     Ret10_i     Ret20_i     Ret30_i     Ret40_i  \\\n",
       "Ticker                                                               \n",
       "count   221.000000  221.000000  221.000000  221.000000  221.000000   \n",
       "mean      0.000812    0.079832    0.077881    0.081653    0.087557   \n",
       "std       0.008135    0.243010    0.137907    0.097563    0.074353   \n",
       "min      -0.029803   -0.693184   -0.394433   -0.170217   -0.074054   \n",
       "25%      -0.002879   -0.059888    0.009911   -0.000990    0.034746   \n",
       "50%       0.001152    0.110756    0.110487    0.097066    0.089694   \n",
       "75%       0.005762    0.239252    0.166241    0.160171    0.142611   \n",
       "max       0.024866    0.787710    0.335351    0.320866    0.249688   \n",
       "\n",
       "Price      Ret50_i      Output  \n",
       "Ticker                          \n",
       "count   221.000000  221.000000  \n",
       "mean      0.091575    0.484163  \n",
       "std       0.061443    0.876964  \n",
       "min      -0.041107   -1.000000  \n",
       "25%       0.042084   -1.000000  \n",
       "50%       0.081773    1.000000  \n",
       "75%       0.132235    1.000000  \n",
       "max       0.238054    1.000000  "
      ]
     },
     "execution_count": 21,
     "metadata": {},
     "output_type": "execute_result"
    }
   ],
   "source": [
    "df.describe()"
   ]
  },
  {
   "cell_type": "code",
   "execution_count": 22,
   "id": "dc63b0a9",
   "metadata": {
    "execution": {
     "iopub.execute_input": "2025-03-07T12:16:05.631169Z",
     "iopub.status.busy": "2025-03-07T12:16:05.630835Z",
     "iopub.status.idle": "2025-03-07T12:16:05.639680Z",
     "shell.execute_reply": "2025-03-07T12:16:05.638369Z"
    },
    "papermill": {
     "duration": 0.021587,
     "end_time": "2025-03-07T12:16:05.641410",
     "exception": false,
     "start_time": "2025-03-07T12:16:05.619823",
     "status": "completed"
    },
    "tags": []
   },
   "outputs": [
    {
     "name": "stdout",
     "output_type": "stream",
     "text": [
      "(177, 6) (177,) (44, 6) (44,)\n"
     ]
    }
   ],
   "source": [
    "X = df.iloc[:,0:-1]\n",
    "y = df.iloc[:, -1]\n",
    "X_train, X_test, y_train,  y_test = train_test_split(X, y, test_size=int(len(y)*0.2), shuffle = False)\n",
    "print(X_train.shape, y_train.shape, X_test.shape, y_test.shape)"
   ]
  },
  {
   "cell_type": "code",
   "execution_count": 23,
   "id": "b29d8bbe",
   "metadata": {
    "execution": {
     "iopub.execute_input": "2025-03-07T12:16:05.663206Z",
     "iopub.status.busy": "2025-03-07T12:16:05.662877Z",
     "iopub.status.idle": "2025-03-07T12:16:06.035386Z",
     "shell.execute_reply": "2025-03-07T12:16:06.034352Z"
    },
    "papermill": {
     "duration": 0.385449,
     "end_time": "2025-03-07T12:16:06.037324",
     "exception": false,
     "start_time": "2025-03-07T12:16:05.651875",
     "status": "completed"
    },
    "tags": []
   },
   "outputs": [
    {
     "data": {
      "image/png": "[encoded data removed]",
      "text/plain": [
       "<Figure size 1500x700 with 1 Axes>"
      ]
     },
     "metadata": {},
     "output_type": "display_data"
    }
   ],
   "source": [
    "plt.figure(figsize=(15, 7))\n",
    "plt.plot(df.index,np.cumsum(y),label=\"Cumulative ups (+1) and downs (-1) of SPY over 25 days\",)\n",
    "legend = plt.legend(loc=\"upper left\")\n",
    "plt.show()"
   ]
  },
  {
   "cell_type": "markdown",
   "id": "5caeb1f0",
   "metadata": {
    "papermill": {
     "duration": 0.010949,
     "end_time": "2025-03-07T12:16:06.061187",
     "exception": false,
     "start_time": "2025-03-07T12:16:06.050238",
     "status": "completed"
    },
    "tags": []
   },
   "source": [
    "## Standarization"
   ]
  },
  {
   "cell_type": "code",
   "execution_count": 24,
   "id": "cd5cd556",
   "metadata": {
    "execution": {
     "iopub.execute_input": "2025-03-07T12:16:06.084650Z",
     "iopub.status.busy": "2025-03-07T12:16:06.084250Z",
     "iopub.status.idle": "2025-03-07T12:16:06.098133Z",
     "shell.execute_reply": "2025-03-07T12:16:06.097016Z"
    },
    "papermill": {
     "duration": 0.027315,
     "end_time": "2025-03-07T12:16:06.099603",
     "exception": false,
     "start_time": "2025-03-07T12:16:06.072288",
     "status": "completed"
    },
    "tags": []
   },
   "outputs": [
    {
     "data": {
      "text/html": [
       "<div>\n",
       "<style scoped>\n",
       "    .dataframe tbody tr th:only-of-type {\n",
       "        vertical-align: middle;\n",
       "    }\n",
       "\n",
       "    .dataframe tbody tr th {\n",
       "        vertical-align: top;\n",
       "    }\n",
       "\n",
       "    .dataframe thead tr th {\n",
       "        text-align: left;\n",
       "    }\n",
       "\n",
       "    .dataframe thead tr:last-of-type th {\n",
       "        text-align: right;\n",
       "    }\n",
       "</style>\n",
       "<table border=\"1\" class=\"dataframe\">\n",
       "  <thead>\n",
       "    <tr>\n",
       "      <th>Price</th>\n",
       "      <th>Ret</th>\n",
       "      <th>Ret10_i</th>\n",
       "      <th>Ret20_i</th>\n",
       "      <th>Ret30_i</th>\n",
       "      <th>Ret40_i</th>\n",
       "      <th>Ret50_i</th>\n",
       "    </tr>\n",
       "    <tr>\n",
       "      <th>Ticker</th>\n",
       "      <th></th>\n",
       "      <th></th>\n",
       "      <th></th>\n",
       "      <th></th>\n",
       "      <th></th>\n",
       "      <th></th>\n",
       "    </tr>\n",
       "    <tr>\n",
       "      <th>Date</th>\n",
       "      <th></th>\n",
       "      <th></th>\n",
       "      <th></th>\n",
       "      <th></th>\n",
       "      <th></th>\n",
       "      <th></th>\n",
       "    </tr>\n",
       "  </thead>\n",
       "  <tbody>\n",
       "    <tr>\n",
       "      <th>2024-03-14</th>\n",
       "      <td>-0.001977</td>\n",
       "      <td>0.134399</td>\n",
       "      <td>0.161760</td>\n",
       "      <td>0.214568</td>\n",
       "      <td>0.216425</td>\n",
       "      <td>0.171576</td>\n",
       "    </tr>\n",
       "    <tr>\n",
       "      <th>2024-03-15</th>\n",
       "      <td>-0.006867</td>\n",
       "      <td>-0.028034</td>\n",
       "      <td>0.092840</td>\n",
       "      <td>0.148137</td>\n",
       "      <td>0.176989</td>\n",
       "      <td>0.174201</td>\n",
       "    </tr>\n",
       "    <tr>\n",
       "      <th>2024-03-18</th>\n",
       "      <td>0.005943</td>\n",
       "      <td>0.041955</td>\n",
       "      <td>0.147496</td>\n",
       "      <td>0.132959</td>\n",
       "      <td>0.160802</td>\n",
       "      <td>0.192538</td>\n",
       "    </tr>\n",
       "    <tr>\n",
       "      <th>2024-03-19</th>\n",
       "      <td>0.005557</td>\n",
       "      <td>0.198005</td>\n",
       "      <td>0.202905</td>\n",
       "      <td>0.163637</td>\n",
       "      <td>0.169391</td>\n",
       "      <td>0.200900</td>\n",
       "    </tr>\n",
       "    <tr>\n",
       "      <th>2024-03-20</th>\n",
       "      <td>0.009249</td>\n",
       "      <td>0.239621</td>\n",
       "      <td>0.244505</td>\n",
       "      <td>0.184699</td>\n",
       "      <td>0.185155</td>\n",
       "      <td>0.190945</td>\n",
       "    </tr>\n",
       "  </tbody>\n",
       "</table>\n",
       "</div>"
      ],
      "text/plain": [
       "Price            Ret   Ret10_i   Ret20_i   Ret30_i   Ret40_i   Ret50_i\n",
       "Ticker                                                                \n",
       "Date                                                                  \n",
       "2024-03-14 -0.001977  0.134399  0.161760  0.214568  0.216425  0.171576\n",
       "2024-03-15 -0.006867 -0.028034  0.092840  0.148137  0.176989  0.174201\n",
       "2024-03-18  0.005943  0.041955  0.147496  0.132959  0.160802  0.192538\n",
       "2024-03-19  0.005557  0.198005  0.202905  0.163637  0.169391  0.200900\n",
       "2024-03-20  0.009249  0.239621  0.244505  0.184699  0.185155  0.190945"
      ]
     },
     "execution_count": 24,
     "metadata": {},
     "output_type": "execute_result"
    }
   ],
   "source": [
    "X_train.head()"
   ]
  },
  {
   "cell_type": "code",
   "execution_count": 25,
   "id": "92f647b5",
   "metadata": {
    "execution": {
     "iopub.execute_input": "2025-03-07T12:16:06.123947Z",
     "iopub.status.busy": "2025-03-07T12:16:06.123541Z",
     "iopub.status.idle": "2025-03-07T12:16:06.175287Z",
     "shell.execute_reply": "2025-03-07T12:16:06.174274Z"
    },
    "papermill": {
     "duration": 0.065884,
     "end_time": "2025-03-07T12:16:06.177010",
     "exception": false,
     "start_time": "2025-03-07T12:16:06.111126",
     "status": "completed"
    },
    "tags": []
   },
   "outputs": [],
   "source": [
    "store = []\n",
    "for i in range (len(X_train.columns)):\n",
    "    min_value = X_train.iloc[:,i].min()\n",
    "    max_value = X_train.iloc[:,i].max()\n",
    "    normalized_col = []\n",
    "    for j in range (len(X_train)):\n",
    "        x_j = (X_train.iloc[j,i] - min_value)/(max_value - min_value)\n",
    "        normalized_col.append(x_j)\n",
    "    store.append(normalized_col)"
   ]
  },
  {
   "cell_type": "code",
   "execution_count": 26,
   "id": "d00ffad5",
   "metadata": {
    "execution": {
     "iopub.execute_input": "2025-03-07T12:16:06.201359Z",
     "iopub.status.busy": "2025-03-07T12:16:06.201010Z",
     "iopub.status.idle": "2025-03-07T12:16:06.215009Z",
     "shell.execute_reply": "2025-03-07T12:16:06.213836Z"
    },
    "papermill": {
     "duration": 0.028176,
     "end_time": "2025-03-07T12:16:06.216757",
     "exception": false,
     "start_time": "2025-03-07T12:16:06.188581",
     "status": "completed"
    },
    "tags": []
   },
   "outputs": [
    {
     "data": {
      "text/html": [
       "<div>\n",
       "<style scoped>\n",
       "    .dataframe tbody tr th:only-of-type {\n",
       "        vertical-align: middle;\n",
       "    }\n",
       "\n",
       "    .dataframe tbody tr th {\n",
       "        vertical-align: top;\n",
       "    }\n",
       "\n",
       "    .dataframe thead tr th {\n",
       "        text-align: left;\n",
       "    }\n",
       "</style>\n",
       "<table border=\"1\" class=\"dataframe\">\n",
       "  <thead>\n",
       "    <tr>\n",
       "      <th>Price</th>\n",
       "      <th>Ret</th>\n",
       "      <th>Ret10_i</th>\n",
       "      <th>Ret20_i</th>\n",
       "      <th>Ret30_i</th>\n",
       "      <th>Ret40_i</th>\n",
       "      <th>Ret50_i</th>\n",
       "    </tr>\n",
       "    <tr>\n",
       "      <th>Ticker</th>\n",
       "      <th></th>\n",
       "      <th></th>\n",
       "      <th></th>\n",
       "      <th></th>\n",
       "      <th></th>\n",
       "      <th></th>\n",
       "    </tr>\n",
       "  </thead>\n",
       "  <tbody>\n",
       "    <tr>\n",
       "      <th>0</th>\n",
       "      <td>0.502818</td>\n",
       "      <td>0.558840</td>\n",
       "      <td>0.762134</td>\n",
       "      <td>0.783545</td>\n",
       "      <td>0.897256</td>\n",
       "      <td>0.761866</td>\n",
       "    </tr>\n",
       "    <tr>\n",
       "      <th>1</th>\n",
       "      <td>0.412250</td>\n",
       "      <td>0.449154</td>\n",
       "      <td>0.667696</td>\n",
       "      <td>0.648269</td>\n",
       "      <td>0.775441</td>\n",
       "      <td>0.771267</td>\n",
       "    </tr>\n",
       "    <tr>\n",
       "      <th>2</th>\n",
       "      <td>0.649513</td>\n",
       "      <td>0.496416</td>\n",
       "      <td>0.742589</td>\n",
       "      <td>0.617363</td>\n",
       "      <td>0.725443</td>\n",
       "      <td>0.836954</td>\n",
       "    </tr>\n",
       "    <tr>\n",
       "      <th>3</th>\n",
       "      <td>0.642365</td>\n",
       "      <td>0.601791</td>\n",
       "      <td>0.818514</td>\n",
       "      <td>0.679832</td>\n",
       "      <td>0.751971</td>\n",
       "      <td>0.866910</td>\n",
       "    </tr>\n",
       "    <tr>\n",
       "      <th>4</th>\n",
       "      <td>0.710754</td>\n",
       "      <td>0.629893</td>\n",
       "      <td>0.875517</td>\n",
       "      <td>0.722722</td>\n",
       "      <td>0.800666</td>\n",
       "      <td>0.831248</td>\n",
       "    </tr>\n",
       "  </tbody>\n",
       "</table>\n",
       "</div>"
      ],
      "text/plain": [
       "Price        Ret   Ret10_i   Ret20_i   Ret30_i   Ret40_i   Ret50_i\n",
       "Ticker                                                            \n",
       "0       0.502818  0.558840  0.762134  0.783545  0.897256  0.761866\n",
       "1       0.412250  0.449154  0.667696  0.648269  0.775441  0.771267\n",
       "2       0.649513  0.496416  0.742589  0.617363  0.725443  0.836954\n",
       "3       0.642365  0.601791  0.818514  0.679832  0.751971  0.866910\n",
       "4       0.710754  0.629893  0.875517  0.722722  0.800666  0.831248"
      ]
     },
     "execution_count": 26,
     "metadata": {},
     "output_type": "execute_result"
    }
   ],
   "source": [
    "X_train_scaled = pd.DataFrame(np.array(store).T, columns = X_train.columns)\n",
    "X_train_scaled.head()"
   ]
  },
  {
   "cell_type": "code",
   "execution_count": 27,
   "id": "b45b7907",
   "metadata": {
    "execution": {
     "iopub.execute_input": "2025-03-07T12:16:06.241355Z",
     "iopub.status.busy": "2025-03-07T12:16:06.240946Z",
     "iopub.status.idle": "2025-03-07T12:16:06.251460Z",
     "shell.execute_reply": "2025-03-07T12:16:06.250441Z"
    },
    "papermill": {
     "duration": 0.024786,
     "end_time": "2025-03-07T12:16:06.253206",
     "exception": false,
     "start_time": "2025-03-07T12:16:06.228420",
     "status": "completed"
    },
    "tags": []
   },
   "outputs": [],
   "source": [
    "from sklearn.preprocessing import MinMaxScaler\n",
    "\n",
    "scaler_input = MinMaxScaler(feature_range=(-1, 1))\n",
    "scaler_input.fit(X_train)\n",
    "X_train = scaler_input.transform(X_train)\n",
    "X_test = scaler_input.transform(X_test)"
   ]
  },
  {
   "cell_type": "markdown",
   "id": "68d6ac5d",
   "metadata": {
    "papermill": {
     "duration": 0.011039,
     "end_time": "2025-03-07T12:16:06.275982",
     "exception": false,
     "start_time": "2025-03-07T12:16:06.264943",
     "status": "completed"
    },
    "tags": []
   },
   "source": [
    "## Logistic Regression"
   ]
  },
  {
   "cell_type": "code",
   "execution_count": 28,
   "id": "370e5528",
   "metadata": {
    "execution": {
     "iopub.execute_input": "2025-03-07T12:16:06.300839Z",
     "iopub.status.busy": "2025-03-07T12:16:06.300440Z",
     "iopub.status.idle": "2025-03-07T12:16:06.326198Z",
     "shell.execute_reply": "2025-03-07T12:16:06.325103Z"
    },
    "papermill": {
     "duration": 0.040252,
     "end_time": "2025-03-07T12:16:06.328015",
     "exception": false,
     "start_time": "2025-03-07T12:16:06.287763",
     "status": "completed"
    },
    "tags": []
   },
   "outputs": [
    {
     "data": {
      "text/html": [
       "<style>#sk-container-id-1 {color: black;background-color: white;}#sk-container-id-1 pre{padding: 0;}#sk-container-id-1 div.sk-toggleable {background-color: white;}#sk-container-id-1 label.sk-toggleable__label {cursor: pointer;display: block;width: 100%;margin-bottom: 0;padding: 0.3em;box-sizing: border-box;text-align: center;}#sk-container-id-1 label.sk-toggleable__label-arrow:before {content: \"▸\";float: left;margin-right: 0.25em;color: #696969;}#sk-container-id-1 label.sk-toggleable__label-arrow:hover:before {color: black;}#sk-container-id-1 div.sk-estimator:hover label.sk-toggleable__label-arrow:before {color: black;}#sk-container-id-1 div.sk-toggleable__content {max-height: 0;max-width: 0;overflow: hidden;text-align: left;background-color: #f0f8ff;}#sk-container-id-1 div.sk-toggleable__content pre {margin: 0.2em;color: black;border-radius: 0.25em;background-color: #f0f8ff;}#sk-container-id-1 input.sk-toggleable__control:checked~div.sk-toggleable__content {max-height: 200px;max-width: 100%;overflow: auto;}#sk-container-id-1 input.sk-toggleable__control:checked~label.sk-toggleable__label-arrow:before {content: \"▾\";}#sk-container-id-1 div.sk-estimator input.sk-toggleable__control:checked~label.sk-toggleable__label {background-color: #d4ebff;}#sk-container-id-1 div.sk-label input.sk-toggleable__control:checked~label.sk-toggleable__label {background-color: #d4ebff;}#sk-container-id-1 input.sk-hidden--visually {border: 0;clip: rect(1px 1px 1px 1px);clip: rect(1px, 1px, 1px, 1px);height: 1px;margin: -1px;overflow: hidden;padding: 0;position: absolute;width: 1px;}#sk-container-id-1 div.sk-estimator {font-family: monospace;background-color: #f0f8ff;border: 1px dotted black;border-radius: 0.25em;box-sizing: border-box;margin-bottom: 0.5em;}#sk-container-id-1 div.sk-estimator:hover {background-color: #d4ebff;}#sk-container-id-1 div.sk-parallel-item::after {content: \"\";width: 100%;border-bottom: 1px solid gray;flex-grow: 1;}#sk-container-id-1 div.sk-label:hover label.sk-toggleable__label {background-color: #d4ebff;}#sk-container-id-1 div.sk-serial::before {content: \"\";position: absolute;border-left: 1px solid gray;box-sizing: border-box;top: 0;bottom: 0;left: 50%;z-index: 0;}#sk-container-id-1 div.sk-serial {display: flex;flex-direction: column;align-items: center;background-color: white;padding-right: 0.2em;padding-left: 0.2em;position: relative;}#sk-container-id-1 div.sk-item {position: relative;z-index: 1;}#sk-container-id-1 div.sk-parallel {display: flex;align-items: stretch;justify-content: center;background-color: white;position: relative;}#sk-container-id-1 div.sk-item::before, #sk-container-id-1 div.sk-parallel-item::before {content: \"\";position: absolute;border-left: 1px solid gray;box-sizing: border-box;top: 0;bottom: 0;left: 50%;z-index: -1;}#sk-container-id-1 div.sk-parallel-item {display: flex;flex-direction: column;z-index: 1;position: relative;background-color: white;}#sk-container-id-1 div.sk-parallel-item:first-child::after {align-self: flex-end;width: 50%;}#sk-container-id-1 div.sk-parallel-item:last-child::after {align-self: flex-start;width: 50%;}#sk-container-id-1 div.sk-parallel-item:only-child::after {width: 0;}#sk-container-id-1 div.sk-dashed-wrapped {border: 1px dashed gray;margin: 0 0.4em 0.5em 0.4em;box-sizing: border-box;padding-bottom: 0.4em;background-color: white;}#sk-container-id-1 div.sk-label label {font-family: monospace;font-weight: bold;display: inline-block;line-height: 1.2em;}#sk-container-id-1 div.sk-label-container {text-align: center;}#sk-container-id-1 div.sk-container {/* jupyter's `normalize.less` sets `[hidden] { display: none; }` but bootstrap.min.css set `[hidden] { display: none !important; }` so we also need the `!important` here to be able to override the default hidden behavior on the sphinx rendered scikit-learn.org. See: https://github.com/scikit-learn/scikit-learn/issues/21755 */display: inline-block !important;position: relative;}#sk-container-id-1 div.sk-text-repr-fallback {display: none;}</style><div id=\"sk-container-id-1\" class=\"sk-top-container\"><div class=\"sk-text-repr-fallback\"><pre>LogisticRegression()</pre><b>In a Jupyter environment, please rerun this cell to show the HTML representation or trust the notebook. <br />On GitHub, the HTML representation is unable to render, please try loading this page with nbviewer.org.</b></div><div class=\"sk-container\" hidden><div class=\"sk-item\"><div class=\"sk-estimator sk-toggleable\"><input class=\"sk-toggleable__control sk-hidden--visually\" id=\"sk-estimator-id-1\" type=\"checkbox\" checked><label for=\"sk-estimator-id-1\" class=\"sk-toggleable__label sk-toggleable__label-arrow\">LogisticRegression</label><div class=\"sk-toggleable__content\"><pre>LogisticRegression()</pre></div></div></div></div></div>"
      ],
      "text/plain": [
       "LogisticRegression()"
      ]
     },
     "execution_count": 28,
     "metadata": {},
     "output_type": "execute_result"
    }
   ],
   "source": [
    "from sklearn.linear_model import LogisticRegression\n",
    "\n",
    "logisticRegr = LogisticRegression()\n",
    "logisticRegr.fit(X_train, y_train)"
   ]
  },
  {
   "cell_type": "code",
   "execution_count": 29,
   "id": "da93e0b4",
   "metadata": {
    "execution": {
     "iopub.execute_input": "2025-03-07T12:16:06.352688Z",
     "iopub.status.busy": "2025-03-07T12:16:06.352306Z",
     "iopub.status.idle": "2025-03-07T12:16:06.356929Z",
     "shell.execute_reply": "2025-03-07T12:16:06.355866Z"
    },
    "papermill": {
     "duration": 0.018553,
     "end_time": "2025-03-07T12:16:06.358465",
     "exception": false,
     "start_time": "2025-03-07T12:16:06.339912",
     "status": "completed"
    },
    "tags": []
   },
   "outputs": [],
   "source": [
    "predictions = logisticRegr.predict(X_test)"
   ]
  },
  {
   "cell_type": "code",
   "execution_count": 30,
   "id": "017d445d",
   "metadata": {
    "execution": {
     "iopub.execute_input": "2025-03-07T12:16:06.383149Z",
     "iopub.status.busy": "2025-03-07T12:16:06.382818Z",
     "iopub.status.idle": "2025-03-07T12:16:06.389777Z",
     "shell.execute_reply": "2025-03-07T12:16:06.388749Z"
    },
    "papermill": {
     "duration": 0.02078,
     "end_time": "2025-03-07T12:16:06.391211",
     "exception": false,
     "start_time": "2025-03-07T12:16:06.370431",
     "status": "completed"
    },
    "tags": []
   },
   "outputs": [
    {
     "name": "stdout",
     "output_type": "stream",
     "text": [
      "0.5227272727272727\n"
     ]
    }
   ],
   "source": [
    "score = logisticRegr.score(X_test, y_test)\n",
    "print(score)"
   ]
  },
  {
   "cell_type": "markdown",
   "id": "1178a4eb",
   "metadata": {
    "papermill": {
     "duration": 0.01187,
     "end_time": "2025-03-07T12:16:06.414927",
     "exception": false,
     "start_time": "2025-03-07T12:16:06.403057",
     "status": "completed"
    },
    "tags": []
   },
   "source": [
    "The model is able to predict the actual outcome 52% of the time. "
   ]
  },
  {
   "cell_type": "markdown",
   "id": "e12be248",
   "metadata": {
    "papermill": {
     "duration": 0.011349,
     "end_time": "2025-03-07T12:16:06.438172",
     "exception": false,
     "start_time": "2025-03-07T12:16:06.426823",
     "status": "completed"
    },
    "tags": []
   },
   "source": [
    "## Softmax Regression"
   ]
  },
  {
   "cell_type": "code",
   "execution_count": 31,
   "id": "2c7e05b7",
   "metadata": {
    "execution": {
     "iopub.execute_input": "2025-03-07T12:16:06.462857Z",
     "iopub.status.busy": "2025-03-07T12:16:06.462410Z",
     "iopub.status.idle": "2025-03-07T12:16:06.478598Z",
     "shell.execute_reply": "2025-03-07T12:16:06.477462Z"
    },
    "papermill": {
     "duration": 0.030516,
     "end_time": "2025-03-07T12:16:06.480341",
     "exception": false,
     "start_time": "2025-03-07T12:16:06.449825",
     "status": "completed"
    },
    "tags": []
   },
   "outputs": [
    {
     "name": "stdout",
     "output_type": "stream",
     "text": [
      "<class 'pandas.core.series.Series'>\n",
      "DatetimeIndex: 221 entries, 2024-03-14 to 2025-01-30\n",
      "Series name: Output\n",
      "Non-Null Count  Dtype  \n",
      "--------------  -----  \n",
      "221 non-null    float64\n",
      "dtypes: float64(1)\n",
      "memory usage: 3.5 KB\n"
     ]
    }
   ],
   "source": [
    "df['Output'].info()"
   ]
  },
  {
   "cell_type": "markdown",
   "id": "df730683",
   "metadata": {
    "papermill": {
     "duration": 0.011669,
     "end_time": "2025-03-07T12:16:06.503972",
     "exception": false,
     "start_time": "2025-03-07T12:16:06.492303",
     "status": "completed"
    },
    "tags": []
   },
   "source": [
    "## Confusion Matrix"
   ]
  },
  {
   "cell_type": "code",
   "execution_count": 32,
   "id": "e05a8ad1",
   "metadata": {
    "execution": {
     "iopub.execute_input": "2025-03-07T12:16:06.529370Z",
     "iopub.status.busy": "2025-03-07T12:16:06.529017Z",
     "iopub.status.idle": "2025-03-07T12:16:07.302202Z",
     "shell.execute_reply": "2025-03-07T12:16:07.301002Z"
    },
    "papermill": {
     "duration": 0.788041,
     "end_time": "2025-03-07T12:16:07.304051",
     "exception": false,
     "start_time": "2025-03-07T12:16:06.516010",
     "status": "completed"
    },
    "tags": []
   },
   "outputs": [
    {
     "data": {
      "image/png": "[encoded data removed]",
      "text/plain": [
       "<Figure size 900x900 with 2 Axes>"
      ]
     },
     "metadata": {},
     "output_type": "display_data"
    }
   ],
   "source": [
    "import seaborn as sns\n",
    "from sklearn import metrics\n",
    "\n",
    "cm = metrics.confusion_matrix(y_test, predictions)\n",
    "plt.figure(figsize=(9, 9))\n",
    "sns.heatmap(cm, annot=True, fmt=\".3f\", linewidths=0.5, square=True, cmap=\"Blues_r\")\n",
    "plt.ylabel(\"Actual label\")\n",
    "plt.xlabel(\"Predicted label\")\n",
    "all_sample_title = \"Accuracy Score: {0}\".format(score)\n",
    "plt.title(all_sample_title, size=15);"
   ]
  },
  {
   "cell_type": "code",
   "execution_count": 33,
   "id": "b4b4629a",
   "metadata": {
    "execution": {
     "iopub.execute_input": "2025-03-07T12:16:07.330671Z",
     "iopub.status.busy": "2025-03-07T12:16:07.330085Z",
     "iopub.status.idle": "2025-03-07T12:16:07.505438Z",
     "shell.execute_reply": "2025-03-07T12:16:07.504289Z"
    },
    "papermill": {
     "duration": 0.190339,
     "end_time": "2025-03-07T12:16:07.507287",
     "exception": false,
     "start_time": "2025-03-07T12:16:07.316948",
     "status": "completed"
    },
    "tags": []
   },
   "outputs": [
    {
     "data": {
      "image/png": "[encoded data removed]",
      "text/plain": [
       "<Figure size 640x480 with 1 Axes>"
      ]
     },
     "metadata": {},
     "output_type": "display_data"
    }
   ],
   "source": [
    "from sklearn import metrics\n",
    "\n",
    "fpr, tpr, thresholds = metrics.roc_curve(y_test, predictions)\n",
    "roc_auc = metrics.auc(fpr, tpr)\n",
    "display = metrics.RocCurveDisplay(fpr=fpr, tpr=tpr, roc_auc=roc_auc, estimator_name=\"estimation\")\n",
    "display.plot()\n",
    "plt.show()"
   ]
  }
 ],
 "metadata": {
  "kaggle": {
   "accelerator": "none",
   "dataSources": [],
   "dockerImageVersionId": 30918,
   "isGpuEnabled": false,
   "isInternetEnabled": true,
   "language": "python",
   "sourceType": "notebook"
  },
  "kernelspec": {
   "display_name": "Python 3",
   "language": "python",
   "name": "python3"
  },
  "language_info": {
   "codemirror_mode": {
    "name": "ipython",
    "version": 3
   },
   "file_extension": ".py",
   "mimetype": "text/x-python",
   "name": "python",
   "nbconvert_exporter": "python",
   "pygments_lexer": "ipython3",
   "version": "3.10.12"
  },
  "papermill": {
   "default_parameters": {},
   "duration": 23.348878,
   "end_time": "2025-03-07T12:16:08.343430",
   "environment_variables": {},
   "exception": null,
   "input_path": "__notebook__.ipynb",
   "output_path": "__notebook__.ipynb",
   "parameters": {},
   "start_time": "2025-03-07T12:15:44.994552",
   "version": "2.6.0"
  }
 },
 "nbformat": 4,
 "nbformat_minor": 5
}
