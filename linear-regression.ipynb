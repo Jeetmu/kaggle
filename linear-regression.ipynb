{
 "cells": [
  {
   "cell_type": "code",
   "execution_count": 1,
   "id": "0a0c47c0",
   "metadata": {
    "_cell_guid": "b1076dfc-b9ad-4769-8c92-a6c4dae69d19",
    "_uuid": "8f2839f25d086af736a60e9eeb907d3b93b6e0e5",
    "execution": {
     "iopub.execute_input": "2025-03-05T15:49:14.747050Z",
     "iopub.status.busy": "2025-03-05T15:49:14.746713Z",
     "iopub.status.idle": "2025-03-05T15:49:15.678987Z",
     "shell.execute_reply": "2025-03-05T15:49:15.678098Z"
    },
    "papermill": {
     "duration": 0.941975,
     "end_time": "2025-03-05T15:49:15.680877",
     "exception": false,
     "start_time": "2025-03-05T15:49:14.738902",
     "status": "completed"
    },
    "tags": []
   },
   "outputs": [],
   "source": [
    "# This Python 3 environment comes with many helpful analytics libraries installed\n",
    "# It is defined by the kaggle/python Docker image: https://github.com/kaggle/docker-python\n",
    "# For example, here's several helpful packages to load\n",
    "\n",
    "import numpy as np # linear algebra\n",
    "import pandas as pd # data processing, CSV file I/O (e.g. pd.read_csv)\n",
    "\n",
    "# Input data files are available in the read-only \"../input/\" directory\n",
    "# For example, running this (by clicking run or pressing Shift+Enter) will list all files under the input directory\n",
    "\n",
    "import os\n",
    "for dirname, _, filenames in os.walk('/kaggle/input'):\n",
    "    for filename in filenames:\n",
    "        print(os.path.join(dirname, filename))\n",
    "\n",
    "# You can write up to 20GB to the current directory (/kaggle/working/) that gets preserved as output when you create a version using \"Save & Run All\" \n",
    "# You can also write temporary files to /kaggle/temp/, but they won't be saved outside of the current session"
   ]
  },
  {
   "cell_type": "code",
   "execution_count": 2,
   "id": "6fb79a8e",
   "metadata": {
    "execution": {
     "iopub.execute_input": "2025-03-05T15:49:15.694836Z",
     "iopub.status.busy": "2025-03-05T15:49:15.694342Z",
     "iopub.status.idle": "2025-03-05T15:49:15.698130Z",
     "shell.execute_reply": "2025-03-05T15:49:15.697240Z"
    },
    "papermill": {
     "duration": 0.012307,
     "end_time": "2025-03-05T15:49:15.699696",
     "exception": false,
     "start_time": "2025-03-05T15:49:15.687389",
     "status": "completed"
    },
    "tags": []
   },
   "outputs": [],
   "source": [
    "# pip install yfinance --upgrade --no-cache-dir"
   ]
  },
  {
   "cell_type": "code",
   "execution_count": 3,
   "id": "94b23dcf",
   "metadata": {
    "execution": {
     "iopub.execute_input": "2025-03-05T15:49:15.713311Z",
     "iopub.status.busy": "2025-03-05T15:49:15.712933Z",
     "iopub.status.idle": "2025-03-05T15:49:21.509699Z",
     "shell.execute_reply": "2025-03-05T15:49:21.508403Z"
    },
    "papermill": {
     "duration": 5.80555,
     "end_time": "2025-03-05T15:49:21.511469",
     "exception": false,
     "start_time": "2025-03-05T15:49:15.705919",
     "status": "completed"
    },
    "tags": []
   },
   "outputs": [
    {
     "name": "stdout",
     "output_type": "stream",
     "text": [
      "Requirement already satisfied: yfinance in /usr/local/lib/python3.10/dist-packages (0.2.50)\r\n",
      "Collecting yfinance\r\n",
      "  Downloading yfinance-0.2.54-py2.py3-none-any.whl.metadata (5.8 kB)\r\n",
      "Requirement already satisfied: pandas>=1.3.0 in /usr/local/lib/python3.10/dist-packages (from yfinance) (2.2.3)\r\n",
      "Requirement already satisfied: numpy>=1.16.5 in /usr/local/lib/python3.10/dist-packages (from yfinance) (1.26.4)\r\n",
      "Requirement already satisfied: requests>=2.31 in /usr/local/lib/python3.10/dist-packages (from yfinance) (2.32.3)\r\n",
      "Requirement already satisfied: multitasking>=0.0.7 in /usr/local/lib/python3.10/dist-packages (from yfinance) (0.0.11)\r\n",
      "Requirement already satisfied: platformdirs>=2.0.0 in /usr/local/lib/python3.10/dist-packages (from yfinance) (4.3.6)\r\n",
      "Requirement already satisfied: pytz>=2022.5 in /usr/local/lib/python3.10/dist-packages (from yfinance) (2025.1)\r\n",
      "Requirement already satisfied: frozendict>=2.3.4 in /usr/local/lib/python3.10/dist-packages (from yfinance) (2.4.6)\r\n",
      "Requirement already satisfied: peewee>=3.16.2 in /usr/local/lib/python3.10/dist-packages (from yfinance) (3.17.8)\r\n",
      "Requirement already satisfied: beautifulsoup4>=4.11.1 in /usr/local/lib/python3.10/dist-packages (from yfinance) (4.12.3)\r\n",
      "Requirement already satisfied: soupsieve>1.2 in /usr/local/lib/python3.10/dist-packages (from beautifulsoup4>=4.11.1->yfinance) (2.6)\r\n",
      "Requirement already satisfied: mkl_fft in /usr/local/lib/python3.10/dist-packages (from numpy>=1.16.5->yfinance) (1.3.8)\r\n",
      "Requirement already satisfied: mkl_random in /usr/local/lib/python3.10/dist-packages (from numpy>=1.16.5->yfinance) (1.2.4)\r\n",
      "Requirement already satisfied: mkl_umath in /usr/local/lib/python3.10/dist-packages (from numpy>=1.16.5->yfinance) (0.1.1)\r\n",
      "Requirement already satisfied: mkl in /usr/local/lib/python3.10/dist-packages (from numpy>=1.16.5->yfinance) (2025.0.1)\r\n",
      "Requirement already satisfied: tbb4py in /usr/local/lib/python3.10/dist-packages (from numpy>=1.16.5->yfinance) (2022.0.0)\r\n",
      "Requirement already satisfied: mkl-service in /usr/local/lib/python3.10/dist-packages (from numpy>=1.16.5->yfinance) (2.4.1)\r\n",
      "Requirement already satisfied: python-dateutil>=2.8.2 in /usr/local/lib/python3.10/dist-packages (from pandas>=1.3.0->yfinance) (2.9.0.post0)\r\n",
      "Requirement already satisfied: tzdata>=2022.7 in /usr/local/lib/python3.10/dist-packages (from pandas>=1.3.0->yfinance) (2025.1)\r\n",
      "Requirement already satisfied: charset-normalizer<4,>=2 in /usr/local/lib/python3.10/dist-packages (from requests>=2.31->yfinance) (3.4.1)\r\n",
      "Requirement already satisfied: idna<4,>=2.5 in /usr/local/lib/python3.10/dist-packages (from requests>=2.31->yfinance) (3.10)\r\n",
      "Requirement already satisfied: urllib3<3,>=1.21.1 in /usr/local/lib/python3.10/dist-packages (from requests>=2.31->yfinance) (2.3.0)\r\n",
      "Requirement already satisfied: certifi>=2017.4.17 in /usr/local/lib/python3.10/dist-packages (from requests>=2.31->yfinance) (2025.1.31)\r\n",
      "Requirement already satisfied: six>=1.5 in /usr/local/lib/python3.10/dist-packages (from python-dateutil>=2.8.2->pandas>=1.3.0->yfinance) (1.17.0)\r\n",
      "Requirement already satisfied: intel-openmp>=2024 in /usr/local/lib/python3.10/dist-packages (from mkl->numpy>=1.16.5->yfinance) (2024.2.0)\r\n",
      "Requirement already satisfied: tbb==2022.* in /usr/local/lib/python3.10/dist-packages (from mkl->numpy>=1.16.5->yfinance) (2022.0.0)\r\n",
      "Requirement already satisfied: tcmlib==1.* in /usr/local/lib/python3.10/dist-packages (from tbb==2022.*->mkl->numpy>=1.16.5->yfinance) (1.2.0)\r\n",
      "Requirement already satisfied: intel-cmplr-lib-rt in /usr/local/lib/python3.10/dist-packages (from mkl_umath->numpy>=1.16.5->yfinance) (2024.2.0)\r\n",
      "Requirement already satisfied: intel-cmplr-lib-ur==2024.2.0 in /usr/local/lib/python3.10/dist-packages (from intel-openmp>=2024->mkl->numpy>=1.16.5->yfinance) (2024.2.0)\r\n",
      "Downloading yfinance-0.2.54-py2.py3-none-any.whl (108 kB)\r\n",
      "\u001b[2K   \u001b[90m━━━━━━━━━━━━━━━━━━━━━━━━━━━━━━━━━━━━━━━━\u001b[0m \u001b[32m108.7/108.7 kB\u001b[0m \u001b[31m3.3 MB/s\u001b[0m eta \u001b[36m0:00:00\u001b[0m\r\n",
      "\u001b[?25hInstalling collected packages: yfinance\r\n",
      "  Attempting uninstall: yfinance\r\n",
      "    Found existing installation: yfinance 0.2.50\r\n",
      "    Uninstalling yfinance-0.2.50:\r\n",
      "      Successfully uninstalled yfinance-0.2.50\r\n",
      "Successfully installed yfinance-0.2.54\r\n",
      "Note: you may need to restart the kernel to use updated packages.\n"
     ]
    }
   ],
   "source": [
    "pip install --upgrade yfinance"
   ]
  },
  {
   "cell_type": "code",
   "execution_count": 4,
   "id": "d9e0cbda",
   "metadata": {
    "execution": {
     "iopub.execute_input": "2025-03-05T15:49:21.526242Z",
     "iopub.status.busy": "2025-03-05T15:49:21.525891Z",
     "iopub.status.idle": "2025-03-05T15:49:23.308442Z",
     "shell.execute_reply": "2025-03-05T15:49:23.307441Z"
    },
    "papermill": {
     "duration": 1.791498,
     "end_time": "2025-03-05T15:49:23.309933",
     "exception": false,
     "start_time": "2025-03-05T15:49:21.518435",
     "status": "completed"
    },
    "tags": []
   },
   "outputs": [
    {
     "name": "stdout",
     "output_type": "stream",
     "text": [
      "YF.download() has changed argument auto_adjust default to True\n"
     ]
    },
    {
     "name": "stderr",
     "output_type": "stream",
     "text": [
      "[*********************100%***********************]  1 of 1 completed\n"
     ]
    }
   ],
   "source": [
    "import yfinance as yf\n",
    "df = yf.download('SPY', start='2024-01-01', end='2025-03-03')"
   ]
  },
  {
   "cell_type": "code",
   "execution_count": 5,
   "id": "5f378025",
   "metadata": {
    "execution": {
     "iopub.execute_input": "2025-03-05T15:49:23.324637Z",
     "iopub.status.busy": "2025-03-05T15:49:23.324140Z",
     "iopub.status.idle": "2025-03-05T15:49:23.663735Z",
     "shell.execute_reply": "2025-03-05T15:49:23.662710Z"
    },
    "papermill": {
     "duration": 0.34842,
     "end_time": "2025-03-05T15:49:23.665255",
     "exception": false,
     "start_time": "2025-03-05T15:49:23.316835",
     "status": "completed"
    },
    "tags": []
   },
   "outputs": [
    {
     "data": {
      "image/png": "[encoded data removed]",
      "text/plain": [
       "<Figure size 1500x700 with 1 Axes>"
      ]
     },
     "metadata": {},
     "output_type": "display_data"
    }
   ],
   "source": [
    "import matplotlib.pyplot as plt\n",
    "\n",
    "plt.figure(figsize=(15, 7))\n",
    "plt.plot(df.index, df[\"Close\"], label=\"Daily Prices of SPY\")\n",
    "plt.legend()\n",
    "plt.show()"
   ]
  },
  {
   "cell_type": "markdown",
   "id": "775048a2",
   "metadata": {
    "papermill": {
     "duration": 0.007805,
     "end_time": "2025-03-05T15:49:23.681734",
     "exception": false,
     "start_time": "2025-03-05T15:49:23.673929",
     "status": "completed"
    },
    "tags": []
   },
   "source": [
    "## Features"
   ]
  },
  {
   "cell_type": "code",
   "execution_count": 6,
   "id": "212e2459",
   "metadata": {
    "execution": {
     "iopub.execute_input": "2025-03-05T15:49:23.698930Z",
     "iopub.status.busy": "2025-03-05T15:49:23.698607Z",
     "iopub.status.idle": "2025-03-05T15:49:23.707619Z",
     "shell.execute_reply": "2025-03-05T15:49:23.706774Z"
    },
    "papermill": {
     "duration": 0.019282,
     "end_time": "2025-03-05T15:49:23.709025",
     "exception": false,
     "start_time": "2025-03-05T15:49:23.689743",
     "status": "completed"
    },
    "tags": []
   },
   "outputs": [],
   "source": [
    "df['Ret'] = df['Close'].pct_change()"
   ]
  },
  {
   "cell_type": "code",
   "execution_count": 7,
   "id": "3e6da440",
   "metadata": {
    "execution": {
     "iopub.execute_input": "2025-03-05T15:49:23.726164Z",
     "iopub.status.busy": "2025-03-05T15:49:23.725865Z",
     "iopub.status.idle": "2025-03-05T15:49:24.018942Z",
     "shell.execute_reply": "2025-03-05T15:49:24.017894Z"
    },
    "papermill": {
     "duration": 0.30362,
     "end_time": "2025-03-05T15:49:24.020842",
     "exception": false,
     "start_time": "2025-03-05T15:49:23.717222",
     "status": "completed"
    },
    "tags": []
   },
   "outputs": [],
   "source": [
    "#geometric mean return\n",
    "#last [10,20,30,40,50] days compounded return\n",
    "df['Ret10_i'] = df['Ret'].rolling(10).apply(lambda x : 100 * ((np.prod(1+x)) ** (1/10)-1))\n",
    "df['Ret20_i'] = df['Ret'].rolling(20).apply(lambda x : 100 * ((np.prod(1+x)) ** (1/20)-1))\n",
    "df['Ret30_i'] = df['Ret'].rolling(30).apply(lambda x : 100 * ((np.prod(1+x)) ** (1/30)-1))\n",
    "df['Ret40_i'] = df['Ret'].rolling(40).apply(lambda x : 100 * ((np.prod(1+x)) ** (1/40)-1))\n",
    "df['Ret50_i'] = df['Ret'].rolling(50).apply(lambda x : 100 * ((np.prod(1+x)) ** (1/50)-1))"
   ]
  },
  {
   "cell_type": "code",
   "execution_count": 8,
   "id": "895561a1",
   "metadata": {
    "execution": {
     "iopub.execute_input": "2025-03-05T15:49:24.038208Z",
     "iopub.status.busy": "2025-03-05T15:49:24.037900Z",
     "iopub.status.idle": "2025-03-05T15:49:24.067455Z",
     "shell.execute_reply": "2025-03-05T15:49:24.066488Z"
    },
    "papermill": {
     "duration": 0.039889,
     "end_time": "2025-03-05T15:49:24.068952",
     "exception": false,
     "start_time": "2025-03-05T15:49:24.029063",
     "status": "completed"
    },
    "tags": []
   },
   "outputs": [
    {
     "data": {
      "text/html": [
       "<div>\n",
       "<style scoped>\n",
       "    .dataframe tbody tr th:only-of-type {\n",
       "        vertical-align: middle;\n",
       "    }\n",
       "\n",
       "    .dataframe tbody tr th {\n",
       "        vertical-align: top;\n",
       "    }\n",
       "\n",
       "    .dataframe thead tr th {\n",
       "        text-align: left;\n",
       "    }\n",
       "\n",
       "    .dataframe thead tr:last-of-type th {\n",
       "        text-align: right;\n",
       "    }\n",
       "</style>\n",
       "<table border=\"1\" class=\"dataframe\">\n",
       "  <thead>\n",
       "    <tr>\n",
       "      <th>Price</th>\n",
       "      <th>Ret</th>\n",
       "      <th>Ret10_i</th>\n",
       "      <th>Ret20_i</th>\n",
       "      <th>Ret30_i</th>\n",
       "      <th>Ret40_i</th>\n",
       "      <th>Ret50_i</th>\n",
       "    </tr>\n",
       "    <tr>\n",
       "      <th>Ticker</th>\n",
       "      <th></th>\n",
       "      <th></th>\n",
       "      <th></th>\n",
       "      <th></th>\n",
       "      <th></th>\n",
       "      <th></th>\n",
       "    </tr>\n",
       "    <tr>\n",
       "      <th>Date</th>\n",
       "      <th></th>\n",
       "      <th></th>\n",
       "      <th></th>\n",
       "      <th></th>\n",
       "      <th></th>\n",
       "      <th></th>\n",
       "    </tr>\n",
       "  </thead>\n",
       "  <tbody>\n",
       "    <tr>\n",
       "      <th>2025-02-14</th>\n",
       "      <td>-0.000049</td>\n",
       "      <td>0.130171</td>\n",
       "      <td>0.150457</td>\n",
       "      <td>0.131789</td>\n",
       "      <td>0.020363</td>\n",
       "      <td>0.026735</td>\n",
       "    </tr>\n",
       "    <tr>\n",
       "      <th>2025-02-18</th>\n",
       "      <td>0.002936</td>\n",
       "      <td>0.227183</td>\n",
       "      <td>0.115118</td>\n",
       "      <td>0.149786</td>\n",
       "      <td>0.038018</td>\n",
       "      <td>0.031672</td>\n",
       "    </tr>\n",
       "    <tr>\n",
       "      <th>2025-02-19</th>\n",
       "      <td>0.002355</td>\n",
       "      <td>0.183756</td>\n",
       "      <td>0.081286</td>\n",
       "      <td>0.116163</td>\n",
       "      <td>0.119605</td>\n",
       "      <td>0.023993</td>\n",
       "    </tr>\n",
       "    <tr>\n",
       "      <th>2025-02-20</th>\n",
       "      <td>-0.004160</td>\n",
       "      <td>0.101485</td>\n",
       "      <td>0.032385</td>\n",
       "      <td>0.083086</td>\n",
       "      <td>0.109939</td>\n",
       "      <td>0.018948</td>\n",
       "    </tr>\n",
       "    <tr>\n",
       "      <th>2025-02-21</th>\n",
       "      <td>-0.017104</td>\n",
       "      <td>-0.105727</td>\n",
       "      <td>-0.081064</td>\n",
       "      <td>0.063460</td>\n",
       "      <td>0.036906</td>\n",
       "      <td>-0.019343</td>\n",
       "    </tr>\n",
       "    <tr>\n",
       "      <th>2025-02-24</th>\n",
       "      <td>-0.004550</td>\n",
       "      <td>-0.059416</td>\n",
       "      <td>-0.089243</td>\n",
       "      <td>0.043380</td>\n",
       "      <td>0.010572</td>\n",
       "      <td>-0.018139</td>\n",
       "    </tr>\n",
       "    <tr>\n",
       "      <th>2025-02-25</th>\n",
       "      <td>-0.004973</td>\n",
       "      <td>-0.176815</td>\n",
       "      <td>-0.042970</td>\n",
       "      <td>0.078066</td>\n",
       "      <td>-0.029522</td>\n",
       "      <td>-0.021882</td>\n",
       "    </tr>\n",
       "    <tr>\n",
       "      <th>2025-02-26</th>\n",
       "      <td>0.000505</td>\n",
       "      <td>-0.179367</td>\n",
       "      <td>-0.083200</td>\n",
       "      <td>0.074582</td>\n",
       "      <td>-0.028427</td>\n",
       "      <td>-0.036270</td>\n",
       "    </tr>\n",
       "    <tr>\n",
       "      <th>2025-02-27</th>\n",
       "      <td>-0.015962</td>\n",
       "      <td>-0.307693</td>\n",
       "      <td>-0.141123</td>\n",
       "      <td>0.016336</td>\n",
       "      <td>-0.042193</td>\n",
       "      <td>-0.058109</td>\n",
       "    </tr>\n",
       "    <tr>\n",
       "      <th>2025-02-28</th>\n",
       "      <td>0.015606</td>\n",
       "      <td>-0.258006</td>\n",
       "      <td>-0.090520</td>\n",
       "      <td>0.007863</td>\n",
       "      <td>0.025206</td>\n",
       "      <td>-0.026756</td>\n",
       "    </tr>\n",
       "  </tbody>\n",
       "</table>\n",
       "</div>"
      ],
      "text/plain": [
       "Price            Ret   Ret10_i   Ret20_i   Ret30_i   Ret40_i   Ret50_i\n",
       "Ticker                                                                \n",
       "Date                                                                  \n",
       "2025-02-14 -0.000049  0.130171  0.150457  0.131789  0.020363  0.026735\n",
       "2025-02-18  0.002936  0.227183  0.115118  0.149786  0.038018  0.031672\n",
       "2025-02-19  0.002355  0.183756  0.081286  0.116163  0.119605  0.023993\n",
       "2025-02-20 -0.004160  0.101485  0.032385  0.083086  0.109939  0.018948\n",
       "2025-02-21 -0.017104 -0.105727 -0.081064  0.063460  0.036906 -0.019343\n",
       "2025-02-24 -0.004550 -0.059416 -0.089243  0.043380  0.010572 -0.018139\n",
       "2025-02-25 -0.004973 -0.176815 -0.042970  0.078066 -0.029522 -0.021882\n",
       "2025-02-26  0.000505 -0.179367 -0.083200  0.074582 -0.028427 -0.036270\n",
       "2025-02-27 -0.015962 -0.307693 -0.141123  0.016336 -0.042193 -0.058109\n",
       "2025-02-28  0.015606 -0.258006 -0.090520  0.007863  0.025206 -0.026756"
      ]
     },
     "execution_count": 8,
     "metadata": {},
     "output_type": "execute_result"
    }
   ],
   "source": [
    "del df[\"Open\"]\n",
    "del df[\"Close\"]\n",
    "del df[\"High\"]\n",
    "del df[\"Low\"]\n",
    "del df[\"Volume\"]\n",
    "\n",
    "df = df.dropna()\n",
    "df.tail(10)"
   ]
  },
  {
   "cell_type": "markdown",
   "id": "319b2c6e",
   "metadata": {
    "papermill": {
     "duration": 0.007986,
     "end_time": "2025-03-05T15:49:24.085358",
     "exception": false,
     "start_time": "2025-03-05T15:49:24.077372",
     "status": "completed"
    },
    "tags": []
   },
   "source": [
    "## Target Variable"
   ]
  },
  {
   "cell_type": "code",
   "execution_count": 9,
   "id": "2f2995aa",
   "metadata": {
    "execution": {
     "iopub.execute_input": "2025-03-05T15:49:24.102998Z",
     "iopub.status.busy": "2025-03-05T15:49:24.102686Z",
     "iopub.status.idle": "2025-03-05T15:49:24.119581Z",
     "shell.execute_reply": "2025-03-05T15:49:24.118783Z"
    },
    "papermill": {
     "duration": 0.027313,
     "end_time": "2025-03-05T15:49:24.120890",
     "exception": false,
     "start_time": "2025-03-05T15:49:24.093577",
     "status": "completed"
    },
    "tags": []
   },
   "outputs": [
    {
     "data": {
      "text/html": [
       "<div>\n",
       "<style scoped>\n",
       "    .dataframe tbody tr th:only-of-type {\n",
       "        vertical-align: middle;\n",
       "    }\n",
       "\n",
       "    .dataframe tbody tr th {\n",
       "        vertical-align: top;\n",
       "    }\n",
       "\n",
       "    .dataframe thead tr th {\n",
       "        text-align: left;\n",
       "    }\n",
       "\n",
       "    .dataframe thead tr:last-of-type th {\n",
       "        text-align: right;\n",
       "    }\n",
       "</style>\n",
       "<table border=\"1\" class=\"dataframe\">\n",
       "  <thead>\n",
       "    <tr>\n",
       "      <th>Price</th>\n",
       "      <th>Ret</th>\n",
       "      <th>Ret10_i</th>\n",
       "      <th>Ret20_i</th>\n",
       "      <th>Ret30_i</th>\n",
       "      <th>Ret40_i</th>\n",
       "      <th>Ret50_i</th>\n",
       "      <th>Ret20</th>\n",
       "    </tr>\n",
       "    <tr>\n",
       "      <th>Ticker</th>\n",
       "      <th></th>\n",
       "      <th></th>\n",
       "      <th></th>\n",
       "      <th></th>\n",
       "      <th></th>\n",
       "      <th></th>\n",
       "      <th></th>\n",
       "    </tr>\n",
       "    <tr>\n",
       "      <th>Date</th>\n",
       "      <th></th>\n",
       "      <th></th>\n",
       "      <th></th>\n",
       "      <th></th>\n",
       "      <th></th>\n",
       "      <th></th>\n",
       "      <th></th>\n",
       "    </tr>\n",
       "  </thead>\n",
       "  <tbody>\n",
       "    <tr>\n",
       "      <th>2025-01-08</th>\n",
       "      <td>0.001461</td>\n",
       "      <td>-0.087787</td>\n",
       "      <td>-0.110347</td>\n",
       "      <td>-0.022666</td>\n",
       "      <td>-0.028223</td>\n",
       "      <td>0.042502</td>\n",
       "      <td>0.150457</td>\n",
       "    </tr>\n",
       "    <tr>\n",
       "      <th>2025-01-10</th>\n",
       "      <td>-0.015267</td>\n",
       "      <td>-0.351594</td>\n",
       "      <td>-0.171617</td>\n",
       "      <td>-0.085204</td>\n",
       "      <td>-0.069047</td>\n",
       "      <td>0.005549</td>\n",
       "      <td>0.115118</td>\n",
       "    </tr>\n",
       "    <tr>\n",
       "      <th>2025-01-13</th>\n",
       "      <td>0.001550</td>\n",
       "      <td>-0.336819</td>\n",
       "      <td>-0.202318</td>\n",
       "      <td>-0.097388</td>\n",
       "      <td>-0.057403</td>\n",
       "      <td>0.005413</td>\n",
       "      <td>0.081286</td>\n",
       "    </tr>\n",
       "    <tr>\n",
       "      <th>2025-01-14</th>\n",
       "      <td>0.001376</td>\n",
       "      <td>-0.217577</td>\n",
       "      <td>-0.169674</td>\n",
       "      <td>-0.082702</td>\n",
       "      <td>-0.055181</td>\n",
       "      <td>0.014224</td>\n",
       "      <td>0.032385</td>\n",
       "    </tr>\n",
       "    <tr>\n",
       "      <th>2025-01-15</th>\n",
       "      <td>0.018190</td>\n",
       "      <td>0.077254</td>\n",
       "      <td>-0.078661</td>\n",
       "      <td>-0.043281</td>\n",
       "      <td>0.005998</td>\n",
       "      <td>0.089912</td>\n",
       "      <td>-0.081064</td>\n",
       "    </tr>\n",
       "    <tr>\n",
       "      <th>2025-01-16</th>\n",
       "      <td>-0.001923</td>\n",
       "      <td>0.094465</td>\n",
       "      <td>-0.109562</td>\n",
       "      <td>-0.055661</td>\n",
       "      <td>0.033419</td>\n",
       "      <td>0.077628</td>\n",
       "      <td>-0.089243</td>\n",
       "    </tr>\n",
       "    <tr>\n",
       "      <th>2025-01-17</th>\n",
       "      <td>0.010040</td>\n",
       "      <td>0.219159</td>\n",
       "      <td>-0.039022</td>\n",
       "      <td>-0.023920</td>\n",
       "      <td>0.048177</td>\n",
       "      <td>0.101942</td>\n",
       "      <td>-0.042970</td>\n",
       "    </tr>\n",
       "    <tr>\n",
       "      <th>2025-01-21</th>\n",
       "      <td>0.009154</td>\n",
       "      <td>0.185952</td>\n",
       "      <td>0.157938</td>\n",
       "      <td>-0.014183</td>\n",
       "      <td>0.061842</td>\n",
       "      <td>0.096122</td>\n",
       "      <td>-0.083200</td>\n",
       "    </tr>\n",
       "    <tr>\n",
       "      <th>2025-01-22</th>\n",
       "      <td>0.005621</td>\n",
       "      <td>0.184566</td>\n",
       "      <td>0.187553</td>\n",
       "      <td>0.009992</td>\n",
       "      <td>0.075019</td>\n",
       "      <td>0.058181</td>\n",
       "      <td>-0.141123</td>\n",
       "    </tr>\n",
       "    <tr>\n",
       "      <th>2025-01-23</th>\n",
       "      <td>0.005458</td>\n",
       "      <td>0.353134</td>\n",
       "      <td>0.155016</td>\n",
       "      <td>0.021825</td>\n",
       "      <td>0.075242</td>\n",
       "      <td>0.053660</td>\n",
       "      <td>-0.090520</td>\n",
       "    </tr>\n",
       "  </tbody>\n",
       "</table>\n",
       "</div>"
      ],
      "text/plain": [
       "Price            Ret   Ret10_i   Ret20_i   Ret30_i   Ret40_i   Ret50_i  \\\n",
       "Ticker                                                                   \n",
       "Date                                                                     \n",
       "2025-01-08  0.001461 -0.087787 -0.110347 -0.022666 -0.028223  0.042502   \n",
       "2025-01-10 -0.015267 -0.351594 -0.171617 -0.085204 -0.069047  0.005549   \n",
       "2025-01-13  0.001550 -0.336819 -0.202318 -0.097388 -0.057403  0.005413   \n",
       "2025-01-14  0.001376 -0.217577 -0.169674 -0.082702 -0.055181  0.014224   \n",
       "2025-01-15  0.018190  0.077254 -0.078661 -0.043281  0.005998  0.089912   \n",
       "2025-01-16 -0.001923  0.094465 -0.109562 -0.055661  0.033419  0.077628   \n",
       "2025-01-17  0.010040  0.219159 -0.039022 -0.023920  0.048177  0.101942   \n",
       "2025-01-21  0.009154  0.185952  0.157938 -0.014183  0.061842  0.096122   \n",
       "2025-01-22  0.005621  0.184566  0.187553  0.009992  0.075019  0.058181   \n",
       "2025-01-23  0.005458  0.353134  0.155016  0.021825  0.075242  0.053660   \n",
       "\n",
       "Price          Ret20  \n",
       "Ticker                \n",
       "Date                  \n",
       "2025-01-08  0.150457  \n",
       "2025-01-10  0.115118  \n",
       "2025-01-13  0.081286  \n",
       "2025-01-14  0.032385  \n",
       "2025-01-15 -0.081064  \n",
       "2025-01-16 -0.089243  \n",
       "2025-01-17 -0.042970  \n",
       "2025-01-21 -0.083200  \n",
       "2025-01-22 -0.141123  \n",
       "2025-01-23 -0.090520  "
      ]
     },
     "execution_count": 9,
     "metadata": {},
     "output_type": "execute_result"
    }
   ],
   "source": [
    "df['Ret20'] = df['Ret20_i'].shift(-25)\n",
    "df=df.dropna()\n",
    "df.tail(10)"
   ]
  },
  {
   "cell_type": "markdown",
   "id": "52e5ade1",
   "metadata": {
    "papermill": {
     "duration": 0.008157,
     "end_time": "2025-03-05T15:49:24.137682",
     "exception": false,
     "start_time": "2025-03-05T15:49:24.129525",
     "status": "completed"
    },
    "tags": []
   },
   "source": [
    "## Linear Regression"
   ]
  },
  {
   "cell_type": "code",
   "execution_count": 10,
   "id": "f0da2fc6",
   "metadata": {
    "execution": {
     "iopub.execute_input": "2025-03-05T15:49:24.155742Z",
     "iopub.status.busy": "2025-03-05T15:49:24.155424Z",
     "iopub.status.idle": "2025-03-05T15:49:25.763808Z",
     "shell.execute_reply": "2025-03-05T15:49:25.762731Z"
    },
    "papermill": {
     "duration": 1.619405,
     "end_time": "2025-03-05T15:49:25.765469",
     "exception": false,
     "start_time": "2025-03-05T15:49:24.146064",
     "status": "completed"
    },
    "tags": []
   },
   "outputs": [
    {
     "name": "stdout",
     "output_type": "stream",
     "text": [
      "(216, 6) (216,)\n"
     ]
    }
   ],
   "source": [
    "from sklearn import linear_model\n",
    "from sklearn.metrics import mean_squared_error, r2_score\n",
    "\n",
    "X_df = df.iloc[:, 0:-1]\n",
    "Y_df = df.iloc[:, -1]\n",
    "\n",
    "X = X_df.astype('float32')\n",
    "Y = Y_df.astype('float32')\n",
    "\n",
    "print(X.shape, Y.shape)"
   ]
  },
  {
   "cell_type": "code",
   "execution_count": 11,
   "id": "59018b07",
   "metadata": {
    "execution": {
     "iopub.execute_input": "2025-03-05T15:49:25.784697Z",
     "iopub.status.busy": "2025-03-05T15:49:25.784033Z",
     "iopub.status.idle": "2025-03-05T15:49:25.845463Z",
     "shell.execute_reply": "2025-03-05T15:49:25.844567Z"
    },
    "papermill": {
     "duration": 0.072583,
     "end_time": "2025-03-05T15:49:25.847091",
     "exception": false,
     "start_time": "2025-03-05T15:49:25.774508",
     "status": "completed"
    },
    "tags": []
   },
   "outputs": [
    {
     "data": {
      "text/plain": [
       "array([-0.05174211, -0.03614661,  0.0264374 ,  0.28546906, -0.6550366 ,\n",
       "       -0.88598526], dtype=float32)"
      ]
     },
     "execution_count": 11,
     "metadata": {},
     "output_type": "execute_result"
    }
   ],
   "source": [
    "reg = linear_model.LinearRegression().fit(X,Y)\n",
    "reg.coef_"
   ]
  },
  {
   "cell_type": "code",
   "execution_count": 12,
   "id": "0198b591",
   "metadata": {
    "execution": {
     "iopub.execute_input": "2025-03-05T15:49:25.866105Z",
     "iopub.status.busy": "2025-03-05T15:49:25.865761Z",
     "iopub.status.idle": "2025-03-05T15:49:25.870904Z",
     "shell.execute_reply": "2025-03-05T15:49:25.869983Z"
    },
    "papermill": {
     "duration": 0.016069,
     "end_time": "2025-03-05T15:49:25.872247",
     "exception": false,
     "start_time": "2025-03-05T15:49:25.856178",
     "status": "completed"
    },
    "tags": []
   },
   "outputs": [
    {
     "data": {
      "text/plain": [
       "0.19419287"
      ]
     },
     "execution_count": 12,
     "metadata": {},
     "output_type": "execute_result"
    }
   ],
   "source": [
    "reg.intercept_"
   ]
  },
  {
   "cell_type": "markdown",
   "id": "7b00abcb",
   "metadata": {
    "papermill": {
     "duration": 0.008565,
     "end_time": "2025-03-05T15:49:25.889627",
     "exception": false,
     "start_time": "2025-03-05T15:49:25.881062",
     "status": "completed"
    },
    "tags": []
   },
   "source": [
    "## R^2"
   ]
  },
  {
   "cell_type": "code",
   "execution_count": 13,
   "id": "80a701ce",
   "metadata": {
    "execution": {
     "iopub.execute_input": "2025-03-05T15:49:25.908036Z",
     "iopub.status.busy": "2025-03-05T15:49:25.907693Z",
     "iopub.status.idle": "2025-03-05T15:49:25.915602Z",
     "shell.execute_reply": "2025-03-05T15:49:25.914659Z"
    },
    "papermill": {
     "duration": 0.018746,
     "end_time": "2025-03-05T15:49:25.916984",
     "exception": false,
     "start_time": "2025-03-05T15:49:25.898238",
     "status": "completed"
    },
    "tags": []
   },
   "outputs": [
    {
     "data": {
      "text/plain": [
       "0.3375362361901204"
      ]
     },
     "execution_count": 13,
     "metadata": {},
     "output_type": "execute_result"
    }
   ],
   "source": [
    "reg.score(X,Y)"
   ]
  },
  {
   "cell_type": "code",
   "execution_count": 14,
   "id": "3a7ba1a9",
   "metadata": {
    "execution": {
     "iopub.execute_input": "2025-03-05T15:49:25.935665Z",
     "iopub.status.busy": "2025-03-05T15:49:25.935329Z",
     "iopub.status.idle": "2025-03-05T15:49:25.943973Z",
     "shell.execute_reply": "2025-03-05T15:49:25.942997Z"
    },
    "papermill": {
     "duration": 0.019638,
     "end_time": "2025-03-05T15:49:25.945412",
     "exception": false,
     "start_time": "2025-03-05T15:49:25.925774",
     "status": "completed"
    },
    "tags": []
   },
   "outputs": [
    {
     "name": "stdout",
     "output_type": "stream",
     "text": [
      "Coefficient: \n",
      " [-0.05174211 -0.03614661  0.0264374   0.28546906 -0.6550366  -0.88598526]\n",
      "Mean Square Error: 0.01264\n",
      "Coeffcient of determination (R2): 0.33754\n"
     ]
    }
   ],
   "source": [
    "# making prediction\n",
    "y_pred = reg.predict(X)\n",
    "print('Coefficient: \\n', reg.coef_)\n",
    "print('Mean Square Error: %.5f' % mean_squared_error(Y,y_pred))\n",
    "print('Coeffcient of determination (R2): %.5f'% r2_score(Y, y_pred))"
   ]
  },
  {
   "cell_type": "markdown",
   "id": "0e4002ca",
   "metadata": {
    "papermill": {
     "duration": 0.008651,
     "end_time": "2025-03-05T15:49:25.964341",
     "exception": false,
     "start_time": "2025-03-05T15:49:25.955690",
     "status": "completed"
    },
    "tags": []
   },
   "source": [
    "R2(0.33754) means that 33.75% of the variation in the target variable Y is explained by the model.\n",
    "The remaining 66.25% of the variation is not explained, meaning the model has a lot of unexplained variance.\n",
    "Since R2 ranges from 0 to 1, 0.33754 is relatively low, indicating a weak model fit.\n",
    "\n",
    "0.01264 means that, on average, the squared prediction errors are small, but MSE alone does not tell if the model is good."
   ]
  },
  {
   "cell_type": "code",
   "execution_count": 15,
   "id": "d787ddbc",
   "metadata": {
    "execution": {
     "iopub.execute_input": "2025-03-05T15:49:25.983635Z",
     "iopub.status.busy": "2025-03-05T15:49:25.983215Z",
     "iopub.status.idle": "2025-03-05T15:49:26.165222Z",
     "shell.execute_reply": "2025-03-05T15:49:26.164258Z"
    },
    "papermill": {
     "duration": 0.193669,
     "end_time": "2025-03-05T15:49:26.166827",
     "exception": false,
     "start_time": "2025-03-05T15:49:25.973158",
     "status": "completed"
    },
    "tags": []
   },
   "outputs": [
    {
     "data": {
      "image/png": "[encoded data removed]",
      "text/plain": [
       "<Figure size 640x480 with 1 Axes>"
      ]
     },
     "metadata": {},
     "output_type": "display_data"
    }
   ],
   "source": [
    "plt.scatter(y_pred, Y)\n",
    "plt.plot([-1, 1], [-1, 1], color=\"black\", linewidth=2)\n",
    "plt.show()"
   ]
  },
  {
   "cell_type": "markdown",
   "id": "b31420b1",
   "metadata": {
    "papermill": {
     "duration": 0.009327,
     "end_time": "2025-03-05T15:49:26.186140",
     "exception": false,
     "start_time": "2025-03-05T15:49:26.176813",
     "status": "completed"
    },
    "tags": []
   },
   "source": [
    "## Out of Sample Vs In Sample Performance"
   ]
  },
  {
   "cell_type": "code",
   "execution_count": 16,
   "id": "dd5b534e",
   "metadata": {
    "execution": {
     "iopub.execute_input": "2025-03-05T15:49:26.206638Z",
     "iopub.status.busy": "2025-03-05T15:49:26.206208Z",
     "iopub.status.idle": "2025-03-05T15:49:26.214546Z",
     "shell.execute_reply": "2025-03-05T15:49:26.213524Z"
    },
    "papermill": {
     "duration": 0.020457,
     "end_time": "2025-03-05T15:49:26.216054",
     "exception": false,
     "start_time": "2025-03-05T15:49:26.195597",
     "status": "completed"
    },
    "tags": []
   },
   "outputs": [
    {
     "name": "stdout",
     "output_type": "stream",
     "text": [
      "(173, 6) (43, 6) (173,) (43,)\n"
     ]
    }
   ],
   "source": [
    "from sklearn.model_selection import train_test_split\n",
    "\n",
    "X_train, X_test, y_train, y_test = train_test_split(X, Y, test_size=int(len(Y) * 0.2), shuffle=False)\n",
    "print(X_train.shape, X_test.shape, y_train.shape, y_test.shape)"
   ]
  },
  {
   "cell_type": "code",
   "execution_count": 17,
   "id": "73b74ddb",
   "metadata": {
    "execution": {
     "iopub.execute_input": "2025-03-05T15:49:26.236475Z",
     "iopub.status.busy": "2025-03-05T15:49:26.236083Z",
     "iopub.status.idle": "2025-03-05T15:49:26.244149Z",
     "shell.execute_reply": "2025-03-05T15:49:26.243237Z"
    },
    "papermill": {
     "duration": 0.019982,
     "end_time": "2025-03-05T15:49:26.245717",
     "exception": false,
     "start_time": "2025-03-05T15:49:26.225735",
     "status": "completed"
    },
    "tags": []
   },
   "outputs": [],
   "source": [
    "reg = linear_model.LinearRegression().fit(X_train,y_train)"
   ]
  },
  {
   "cell_type": "code",
   "execution_count": 18,
   "id": "7c0477bb",
   "metadata": {
    "execution": {
     "iopub.execute_input": "2025-03-05T15:49:26.266499Z",
     "iopub.status.busy": "2025-03-05T15:49:26.266148Z",
     "iopub.status.idle": "2025-03-05T15:49:26.275134Z",
     "shell.execute_reply": "2025-03-05T15:49:26.274341Z"
    },
    "papermill": {
     "duration": 0.020998,
     "end_time": "2025-03-05T15:49:26.276606",
     "exception": false,
     "start_time": "2025-03-05T15:49:26.255608",
     "status": "completed"
    },
    "tags": []
   },
   "outputs": [
    {
     "name": "stdout",
     "output_type": "stream",
     "text": [
      "Coefficients: \n",
      " [ 0.02265806 -0.04078856  0.11808617  0.12875609 -0.7102786  -0.79370934]\n",
      "Mean squared error: 0.01120\n",
      "Coefficient of determination (R2): 0.40365\n"
     ]
    }
   ],
   "source": [
    "y_pred = reg.predict(X_train)\n",
    "\n",
    "print(\"Coefficients: \\n\", reg.coef_)\n",
    "print(\"Mean squared error: %.5f\" % mean_squared_error(y_train, y_pred))\n",
    "print(\"Coefficient of determination (R2): %.5f\" % r2_score(y_train, y_pred))"
   ]
  },
  {
   "cell_type": "code",
   "execution_count": 19,
   "id": "471bc243",
   "metadata": {
    "execution": {
     "iopub.execute_input": "2025-03-05T15:49:26.297404Z",
     "iopub.status.busy": "2025-03-05T15:49:26.296976Z",
     "iopub.status.idle": "2025-03-05T15:49:26.305768Z",
     "shell.execute_reply": "2025-03-05T15:49:26.304702Z"
    },
    "papermill": {
     "duration": 0.020817,
     "end_time": "2025-03-05T15:49:26.307237",
     "exception": false,
     "start_time": "2025-03-05T15:49:26.286420",
     "status": "completed"
    },
    "tags": []
   },
   "outputs": [
    {
     "name": "stdout",
     "output_type": "stream",
     "text": [
      "Coefficients: \n",
      " [ 0.02265806 -0.04078856  0.11808617  0.12875609 -0.7102786  -0.79370934]\n",
      "Mean squared error (out-of-sample): 0.02119\n",
      "Coefficient of determination (R2 out-of-sample): -0.42644\n"
     ]
    }
   ],
   "source": [
    "y_pred_test = reg.predict(X_test)\n",
    "print(\"Coefficients: \\n\", reg.coef_)\n",
    "print(\"Mean squared error (out-of-sample): %.5f\" % mean_squared_error(y_test, y_pred_test))\n",
    "print(\"Coefficient of determination (R2 out-of-sample): %.5f\"% r2_score(y_test, y_pred_test))"
   ]
  },
  {
   "cell_type": "markdown",
   "id": "3dc231cf",
   "metadata": {
    "papermill": {
     "duration": 0.009556,
     "end_time": "2025-03-05T15:49:26.326793",
     "exception": false,
     "start_time": "2025-03-05T15:49:26.317237",
     "status": "completed"
    },
    "tags": []
   },
   "source": [
    "Negative R2 means the model is performing worse than just predicting the mean of the target variable."
   ]
  },
  {
   "cell_type": "code",
   "execution_count": 20,
   "id": "9dfa1fb4",
   "metadata": {
    "execution": {
     "iopub.execute_input": "2025-03-05T15:49:26.347210Z",
     "iopub.status.busy": "2025-03-05T15:49:26.346849Z",
     "iopub.status.idle": "2025-03-05T15:49:26.546389Z",
     "shell.execute_reply": "2025-03-05T15:49:26.545347Z"
    },
    "papermill": {
     "duration": 0.21144,
     "end_time": "2025-03-05T15:49:26.547828",
     "exception": false,
     "start_time": "2025-03-05T15:49:26.336388",
     "status": "completed"
    },
    "tags": []
   },
   "outputs": [
    {
     "data": {
      "image/png": "[encoded data removed]",
      "text/plain": [
       "<Figure size 640x480 with 1 Axes>"
      ]
     },
     "metadata": {},
     "output_type": "display_data"
    }
   ],
   "source": [
    "plt.scatter(y_pred, y_train, label=\"Train\")\n",
    "plt.scatter(y_pred_test, y_test, label=\"Test\")\n",
    "plt.plot([-0.5, 0.5], [-1, 1], color=\"black\", linewidth=2)\n",
    "legend = plt.legend(loc=\"upper left\", shadow=True)\n",
    "plt.show()"
   ]
  },
  {
   "cell_type": "markdown",
   "id": "6559516d",
   "metadata": {
    "papermill": {
     "duration": 0.010961,
     "end_time": "2025-03-05T15:49:26.569896",
     "exception": false,
     "start_time": "2025-03-05T15:49:26.558935",
     "status": "completed"
    },
    "tags": []
   },
   "source": [
    "## Polynomial Regression"
   ]
  },
  {
   "cell_type": "code",
   "execution_count": 21,
   "id": "4f6d2be4",
   "metadata": {
    "execution": {
     "iopub.execute_input": "2025-03-05T15:49:26.592067Z",
     "iopub.status.busy": "2025-03-05T15:49:26.591727Z",
     "iopub.status.idle": "2025-03-05T15:49:26.597867Z",
     "shell.execute_reply": "2025-03-05T15:49:26.596783Z"
    },
    "papermill": {
     "duration": 0.018976,
     "end_time": "2025-03-05T15:49:26.599420",
     "exception": false,
     "start_time": "2025-03-05T15:49:26.580444",
     "status": "completed"
    },
    "tags": []
   },
   "outputs": [
    {
     "name": "stdout",
     "output_type": "stream",
     "text": [
      "(216, 6) (216,)\n"
     ]
    }
   ],
   "source": [
    "X = X_df.astype('float32')\n",
    "Y = Y_df.astype('float32')\n",
    "\n",
    "print(X.shape, Y.shape)"
   ]
  },
  {
   "cell_type": "code",
   "execution_count": 22,
   "id": "135d9704",
   "metadata": {
    "execution": {
     "iopub.execute_input": "2025-03-05T15:49:26.621970Z",
     "iopub.status.busy": "2025-03-05T15:49:26.621604Z",
     "iopub.status.idle": "2025-03-05T15:49:26.627687Z",
     "shell.execute_reply": "2025-03-05T15:49:26.626720Z"
    },
    "papermill": {
     "duration": 0.019068,
     "end_time": "2025-03-05T15:49:26.629057",
     "exception": false,
     "start_time": "2025-03-05T15:49:26.609989",
     "status": "completed"
    },
    "tags": []
   },
   "outputs": [],
   "source": [
    "Xpoly = X\n",
    "for pp in range(2,5):\n",
    "    Xpoly = np.concatenate((Xpoly, np.power(X, pp)), axis=1)"
   ]
  },
  {
   "cell_type": "code",
   "execution_count": 23,
   "id": "54130ad5",
   "metadata": {
    "execution": {
     "iopub.execute_input": "2025-03-05T15:49:26.651334Z",
     "iopub.status.busy": "2025-03-05T15:49:26.650929Z",
     "iopub.status.idle": "2025-03-05T15:49:26.657092Z",
     "shell.execute_reply": "2025-03-05T15:49:26.656070Z"
    },
    "papermill": {
     "duration": 0.019054,
     "end_time": "2025-03-05T15:49:26.658673",
     "exception": false,
     "start_time": "2025-03-05T15:49:26.639619",
     "status": "completed"
    },
    "tags": []
   },
   "outputs": [
    {
     "name": "stdout",
     "output_type": "stream",
     "text": [
      "(173, 24) (43, 24) (173,) (43,)\n"
     ]
    }
   ],
   "source": [
    "X_train, X_test, y_train, y_test = train_test_split(Xpoly, Y, test_size=int(len(Y) * 0.2), shuffle=False)\n",
    "print(X_train.shape, X_test.shape, y_train.shape, y_test.shape)"
   ]
  },
  {
   "cell_type": "code",
   "execution_count": 24,
   "id": "0f7a6e10",
   "metadata": {
    "execution": {
     "iopub.execute_input": "2025-03-05T15:49:26.680836Z",
     "iopub.status.busy": "2025-03-05T15:49:26.680511Z",
     "iopub.status.idle": "2025-03-05T15:49:26.695129Z",
     "shell.execute_reply": "2025-03-05T15:49:26.693991Z"
    },
    "papermill": {
     "duration": 0.027548,
     "end_time": "2025-03-05T15:49:26.696748",
     "exception": false,
     "start_time": "2025-03-05T15:49:26.669200",
     "status": "completed"
    },
    "tags": []
   },
   "outputs": [
    {
     "name": "stdout",
     "output_type": "stream",
     "text": [
      "Coefficients: \n",
      " [ 3.5798602e-04 -1.7007557e-01  1.5241636e-01 -9.1685462e-01\n",
      "  7.4520159e-01 -2.8863881e+00 -1.2159790e+02 -7.0079699e-02\n",
      " -4.4087315e-01  3.6508977e+00  3.1212673e+00  1.0466469e+02\n",
      "  4.9106558e+03  1.7104970e-02  3.9310715e+00  1.8253897e+01\n",
      " -1.3440253e+02 -8.8616608e+02  1.5234319e+00  1.6326947e-02\n",
      " -4.6796846e+00 -5.9428959e+01  3.8985303e+02  2.0856284e+03]\n",
      "Mean squared error: 0.00588\n",
      "Coefficient of determination (R2): 0.68671\n"
     ]
    }
   ],
   "source": [
    "reg = linear_model.LinearRegression().fit(X_train, y_train)\n",
    "\n",
    "# Making predictions in the training sample\n",
    "y_pred = reg.predict(X_train)\n",
    "\n",
    "print(\"Coefficients: \\n\", reg.coef_)\n",
    "print(\"Mean squared error: %.5f\" % mean_squared_error(y_train, y_pred))\n",
    "print(\"Coefficient of determination (R2): %.5f\" % r2_score(y_train, y_pred))"
   ]
  },
  {
   "cell_type": "code",
   "execution_count": 25,
   "id": "de00416a",
   "metadata": {
    "execution": {
     "iopub.execute_input": "2025-03-05T15:49:26.719493Z",
     "iopub.status.busy": "2025-03-05T15:49:26.719119Z",
     "iopub.status.idle": "2025-03-05T15:49:26.726926Z",
     "shell.execute_reply": "2025-03-05T15:49:26.726097Z"
    },
    "papermill": {
     "duration": 0.020891,
     "end_time": "2025-03-05T15:49:26.728434",
     "exception": false,
     "start_time": "2025-03-05T15:49:26.707543",
     "status": "completed"
    },
    "tags": []
   },
   "outputs": [
    {
     "name": "stdout",
     "output_type": "stream",
     "text": [
      "Coefficients: \n",
      " [ 3.5798602e-04 -1.7007557e-01  1.5241636e-01 -9.1685462e-01\n",
      "  7.4520159e-01 -2.8863881e+00 -1.2159790e+02 -7.0079699e-02\n",
      " -4.4087315e-01  3.6508977e+00  3.1212673e+00  1.0466469e+02\n",
      "  4.9106558e+03  1.7104970e-02  3.9310715e+00  1.8253897e+01\n",
      " -1.3440253e+02 -8.8616608e+02  1.5234319e+00  1.6326947e-02\n",
      " -4.6796846e+00 -5.9428959e+01  3.8985303e+02  2.0856284e+03]\n",
      "Mean squared error (out-of-sample): 0.04424\n",
      "Coefficient of determination (R2 out-of-sample): -1.97762\n"
     ]
    }
   ],
   "source": [
    "y_pred_test = reg.predict(X_test)\n",
    "\n",
    "print(\"Coefficients: \\n\", reg.coef_)\n",
    "print(\"Mean squared error (out-of-sample): %.5f\" % mean_squared_error(y_test, y_pred_test))\n",
    "print(\"Coefficient of determination (R2 out-of-sample): %.5f\" % r2_score(y_test, y_pred_test))"
   ]
  },
  {
   "cell_type": "code",
   "execution_count": 26,
   "id": "64bcc4b1",
   "metadata": {
    "execution": {
     "iopub.execute_input": "2025-03-05T15:49:26.751839Z",
     "iopub.status.busy": "2025-03-05T15:49:26.751490Z",
     "iopub.status.idle": "2025-03-05T15:49:26.971545Z",
     "shell.execute_reply": "2025-03-05T15:49:26.970619Z"
    },
    "papermill": {
     "duration": 0.233776,
     "end_time": "2025-03-05T15:49:26.973152",
     "exception": false,
     "start_time": "2025-03-05T15:49:26.739376",
     "status": "completed"
    },
    "tags": []
   },
   "outputs": [
    {
     "data": {
      "image/png": "[encoded data removed]",
      "text/plain": [
       "<Figure size 640x480 with 1 Axes>"
      ]
     },
     "metadata": {},
     "output_type": "display_data"
    }
   ],
   "source": [
    "plt.scatter(y_pred, y_train, label=\"Train\")\n",
    "plt.scatter(y_pred_test, y_test, label=\"Test\")\n",
    "plt.plot([-1, 1], [-1, 1], color=\"black\", linewidth=2)\n",
    "legend = plt.legend(loc=\"upper left\", shadow=True)\n",
    "plt.show()"
   ]
  },
  {
   "cell_type": "markdown",
   "id": "dee5eb97",
   "metadata": {
    "papermill": {
     "duration": 0.011188,
     "end_time": "2025-03-05T15:49:26.996099",
     "exception": false,
     "start_time": "2025-03-05T15:49:26.984911",
     "status": "completed"
    },
    "tags": []
   },
   "source": [
    "Negative R2 means the model is worse than simply predicting the mean of 𝑌\n",
    "This is a very bad sign because it indicates that the polynomial regression is overfitting the training data but generalizing poorly to new data."
   ]
  }
 ],
 "metadata": {
  "kaggle": {
   "accelerator": "none",
   "dataSources": [],
   "dockerImageVersionId": 30918,
   "isGpuEnabled": false,
   "isInternetEnabled": true,
   "language": "python",
   "sourceType": "notebook"
  },
  "kernelspec": {
   "display_name": "Python 3",
   "language": "python",
   "name": "python3"
  },
  "language_info": {
   "codemirror_mode": {
    "name": "ipython",
    "version": 3
   },
   "file_extension": ".py",
   "mimetype": "text/x-python",
   "name": "python",
   "nbconvert_exporter": "python",
   "pygments_lexer": "ipython3",
   "version": "3.10.12"
  },
  "papermill": {
   "default_parameters": {},
   "duration": 15.65171,
   "end_time": "2025-03-05T15:49:27.728342",
   "environment_variables": {},
   "exception": null,
   "input_path": "__notebook__.ipynb",
   "output_path": "__notebook__.ipynb",
   "parameters": {},
   "start_time": "2025-03-05T15:49:12.076632",
   "version": "2.6.0"
  }
 },
 "nbformat": 4,
 "nbformat_minor": 5
}
